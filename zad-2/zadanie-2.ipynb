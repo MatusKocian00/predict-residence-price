{
 "cells": [
  {
   "cell_type": "code",
   "execution_count": 1,
   "metadata": {
    "collapsed": true
   },
   "outputs": [],
   "source": [
    "import numpy as np\n",
    "import pandas as pd\n",
    "import plotly.express as px\n",
    "from sklearn.preprocessing import MinMaxScaler\n",
    "from sklearn.model_selection import train_test_split\n",
    "from sklearn.model_selection import GridSearchCV\n",
    "from sklearn import tree\n",
    "from matplotlib import pyplot as plt\n",
    "from sklearn_evaluation import plot\n",
    "from sklearn.svm import SVR\n",
    "from sklearn.tree import DecisionTreeRegressor\n",
    "from sklearn.ensemble import RandomForestRegressor\n",
    "from sklearn.decomposition import PCA\n",
    "from sklearn.model_selection import cross_val_score, cross_validate\n",
    "import plotly.graph_objects as go\n",
    "from plotly.subplots import make_subplots\n",
    "from sklearn.metrics import mean_squared_error\n",
    "from sklearn.metrics import r2_score\n",
    "import sweetviz as sv\n"
   ]
  },
  {
   "cell_type": "code",
   "execution_count": 2,
   "outputs": [],
   "source": [
    "train_data_path = \"train_dummy.csv\"\n",
    "test_data_path = \"test_dummy.csv\"\n",
    "train_data_no_dummy_path = 'train.csv'"
   ],
   "metadata": {
    "collapsed": false
   }
  },
  {
   "cell_type": "code",
   "execution_count": 3,
   "outputs": [
    {
     "name": "stdout",
     "output_type": "stream",
     "text": [
      "(940, 256)\n",
      "(154, 256)\n"
     ]
    }
   ],
   "source": [
    "train_data = pd.read_csv(train_data_path, low_memory=False)\n",
    "test_data = pd.read_csv(test_data_path, low_memory=False)\n",
    "no_dummy = pd.read_csv(train_data_no_dummy_path, low_memory=False)\n",
    "print(train_data.shape)\n",
    "print(test_data.shape)"
   ],
   "metadata": {
    "collapsed": false
   }
  },
  {
   "cell_type": "code",
   "execution_count": 35,
   "outputs": [
    {
     "name": "stderr",
     "output_type": "stream",
     "text": [
      "/Users/matuskocian/PycharmProjects/Zadanie-2/venv/lib/python3.9/site-packages/sweetviz/dataframe_report.py:74: FutureWarning:\n",
      "\n",
      "iteritems is deprecated and will be removed in a future version. Use .items instead.\n",
      "\n",
      "/Users/matuskocian/PycharmProjects/Zadanie-2/venv/lib/python3.9/site-packages/sweetviz/dataframe_report.py:109: FutureWarning:\n",
      "\n",
      "iteritems is deprecated and will be removed in a future version. Use .items instead.\n",
      "\n"
     ]
    },
    {
     "data": {
      "text/plain": "                                             |          | [  0%]   00:00 -> (? left)",
      "application/vnd.jupyter.widget-view+json": {
       "version_major": 2,
       "version_minor": 0,
       "model_id": "d91a83849cb64d68bd6c8bae71f310de"
      }
     },
     "metadata": {},
     "output_type": "display_data"
    },
    {
     "name": "stderr",
     "output_type": "stream",
     "text": [
      "/Users/matuskocian/PycharmProjects/Zadanie-2/venv/lib/python3.9/site-packages/sweetviz/series_analyzer_numeric.py:25: FutureWarning:\n",
      "\n",
      "The 'mad' method is deprecated and will be removed in a future version. To compute the same result, you may do `(df - df.mean()).abs().mean()`.\n",
      "\n",
      "/Users/matuskocian/PycharmProjects/Zadanie-2/venv/lib/python3.9/site-packages/sweetviz/series_analyzer_numeric.py:25: FutureWarning:\n",
      "\n",
      "The 'mad' method is deprecated and will be removed in a future version. To compute the same result, you may do `(df - df.mean()).abs().mean()`.\n",
      "\n",
      "/Users/matuskocian/PycharmProjects/Zadanie-2/venv/lib/python3.9/site-packages/sweetviz/series_analyzer_numeric.py:25: FutureWarning:\n",
      "\n",
      "The 'mad' method is deprecated and will be removed in a future version. To compute the same result, you may do `(df - df.mean()).abs().mean()`.\n",
      "\n",
      "/Users/matuskocian/PycharmProjects/Zadanie-2/venv/lib/python3.9/site-packages/sweetviz/series_analyzer_cat.py:28: FutureWarning:\n",
      "\n",
      "iteritems is deprecated and will be removed in a future version. Use .items instead.\n",
      "\n",
      "/Users/matuskocian/PycharmProjects/Zadanie-2/venv/lib/python3.9/site-packages/sweetviz/series_analyzer_numeric.py:25: FutureWarning:\n",
      "\n",
      "The 'mad' method is deprecated and will be removed in a future version. To compute the same result, you may do `(df - df.mean()).abs().mean()`.\n",
      "\n",
      "/Users/matuskocian/PycharmProjects/Zadanie-2/venv/lib/python3.9/site-packages/sweetviz/series_analyzer_numeric.py:25: FutureWarning:\n",
      "\n",
      "The 'mad' method is deprecated and will be removed in a future version. To compute the same result, you may do `(df - df.mean()).abs().mean()`.\n",
      "\n",
      "/Users/matuskocian/PycharmProjects/Zadanie-2/venv/lib/python3.9/site-packages/sweetviz/series_analyzer_numeric.py:25: FutureWarning:\n",
      "\n",
      "The 'mad' method is deprecated and will be removed in a future version. To compute the same result, you may do `(df - df.mean()).abs().mean()`.\n",
      "\n",
      "/Users/matuskocian/PycharmProjects/Zadanie-2/venv/lib/python3.9/site-packages/sweetviz/series_analyzer_numeric.py:25: FutureWarning:\n",
      "\n",
      "The 'mad' method is deprecated and will be removed in a future version. To compute the same result, you may do `(df - df.mean()).abs().mean()`.\n",
      "\n",
      "/Users/matuskocian/PycharmProjects/Zadanie-2/venv/lib/python3.9/site-packages/sweetviz/series_analyzer_numeric.py:25: FutureWarning:\n",
      "\n",
      "The 'mad' method is deprecated and will be removed in a future version. To compute the same result, you may do `(df - df.mean()).abs().mean()`.\n",
      "\n",
      "/Users/matuskocian/PycharmProjects/Zadanie-2/venv/lib/python3.9/site-packages/sweetviz/series_analyzer_numeric.py:25: FutureWarning:\n",
      "\n",
      "The 'mad' method is deprecated and will be removed in a future version. To compute the same result, you may do `(df - df.mean()).abs().mean()`.\n",
      "\n",
      "/Users/matuskocian/PycharmProjects/Zadanie-2/venv/lib/python3.9/site-packages/sweetviz/series_analyzer_numeric.py:25: FutureWarning:\n",
      "\n",
      "The 'mad' method is deprecated and will be removed in a future version. To compute the same result, you may do `(df - df.mean()).abs().mean()`.\n",
      "\n",
      "/Users/matuskocian/PycharmProjects/Zadanie-2/venv/lib/python3.9/site-packages/sweetviz/series_analyzer_numeric.py:25: FutureWarning:\n",
      "\n",
      "The 'mad' method is deprecated and will be removed in a future version. To compute the same result, you may do `(df - df.mean()).abs().mean()`.\n",
      "\n",
      "/Users/matuskocian/PycharmProjects/Zadanie-2/venv/lib/python3.9/site-packages/sweetviz/series_analyzer_numeric.py:25: FutureWarning:\n",
      "\n",
      "The 'mad' method is deprecated and will be removed in a future version. To compute the same result, you may do `(df - df.mean()).abs().mean()`.\n",
      "\n",
      "/Users/matuskocian/PycharmProjects/Zadanie-2/venv/lib/python3.9/site-packages/sweetviz/series_analyzer_numeric.py:25: FutureWarning:\n",
      "\n",
      "The 'mad' method is deprecated and will be removed in a future version. To compute the same result, you may do `(df - df.mean()).abs().mean()`.\n",
      "\n",
      "/Users/matuskocian/PycharmProjects/Zadanie-2/venv/lib/python3.9/site-packages/sweetviz/series_analyzer_numeric.py:25: FutureWarning:\n",
      "\n",
      "The 'mad' method is deprecated and will be removed in a future version. To compute the same result, you may do `(df - df.mean()).abs().mean()`.\n",
      "\n",
      "/Users/matuskocian/PycharmProjects/Zadanie-2/venv/lib/python3.9/site-packages/sweetviz/series_analyzer_cat.py:28: FutureWarning:\n",
      "\n",
      "iteritems is deprecated and will be removed in a future version. Use .items instead.\n",
      "\n",
      "/Users/matuskocian/PycharmProjects/Zadanie-2/venv/lib/python3.9/site-packages/sweetviz/series_analyzer_cat.py:28: FutureWarning:\n",
      "\n",
      "iteritems is deprecated and will be removed in a future version. Use .items instead.\n",
      "\n",
      "/Users/matuskocian/PycharmProjects/Zadanie-2/venv/lib/python3.9/site-packages/sweetviz/series_analyzer_cat.py:28: FutureWarning:\n",
      "\n",
      "iteritems is deprecated and will be removed in a future version. Use .items instead.\n",
      "\n",
      "/Users/matuskocian/PycharmProjects/Zadanie-2/venv/lib/python3.9/site-packages/sweetviz/series_analyzer_cat.py:28: FutureWarning:\n",
      "\n",
      "iteritems is deprecated and will be removed in a future version. Use .items instead.\n",
      "\n",
      "/Users/matuskocian/PycharmProjects/Zadanie-2/venv/lib/python3.9/site-packages/sweetviz/series_analyzer_cat.py:28: FutureWarning:\n",
      "\n",
      "iteritems is deprecated and will be removed in a future version. Use .items instead.\n",
      "\n",
      "/Users/matuskocian/PycharmProjects/Zadanie-2/venv/lib/python3.9/site-packages/sweetviz/series_analyzer_cat.py:28: FutureWarning:\n",
      "\n",
      "iteritems is deprecated and will be removed in a future version. Use .items instead.\n",
      "\n",
      "/Users/matuskocian/PycharmProjects/Zadanie-2/venv/lib/python3.9/site-packages/sweetviz/series_analyzer_cat.py:28: FutureWarning:\n",
      "\n",
      "iteritems is deprecated and will be removed in a future version. Use .items instead.\n",
      "\n",
      "/Users/matuskocian/PycharmProjects/Zadanie-2/venv/lib/python3.9/site-packages/sweetviz/series_analyzer_cat.py:28: FutureWarning:\n",
      "\n",
      "iteritems is deprecated and will be removed in a future version. Use .items instead.\n",
      "\n",
      "/Users/matuskocian/PycharmProjects/Zadanie-2/venv/lib/python3.9/site-packages/sweetviz/series_analyzer_numeric.py:25: FutureWarning:\n",
      "\n",
      "The 'mad' method is deprecated and will be removed in a future version. To compute the same result, you may do `(df - df.mean()).abs().mean()`.\n",
      "\n",
      "/Users/matuskocian/PycharmProjects/Zadanie-2/venv/lib/python3.9/site-packages/sweetviz/series_analyzer_cat.py:28: FutureWarning:\n",
      "\n",
      "iteritems is deprecated and will be removed in a future version. Use .items instead.\n",
      "\n",
      "/Users/matuskocian/PycharmProjects/Zadanie-2/venv/lib/python3.9/site-packages/sweetviz/series_analyzer_numeric.py:25: FutureWarning:\n",
      "\n",
      "The 'mad' method is deprecated and will be removed in a future version. To compute the same result, you may do `(df - df.mean()).abs().mean()`.\n",
      "\n",
      "/Users/matuskocian/PycharmProjects/Zadanie-2/venv/lib/python3.9/site-packages/sweetviz/series_analyzer_numeric.py:25: FutureWarning:\n",
      "\n",
      "The 'mad' method is deprecated and will be removed in a future version. To compute the same result, you may do `(df - df.mean()).abs().mean()`.\n",
      "\n",
      "/Users/matuskocian/PycharmProjects/Zadanie-2/venv/lib/python3.9/site-packages/sweetviz/series_analyzer_numeric.py:25: FutureWarning:\n",
      "\n",
      "The 'mad' method is deprecated and will be removed in a future version. To compute the same result, you may do `(df - df.mean()).abs().mean()`.\n",
      "\n",
      "/Users/matuskocian/PycharmProjects/Zadanie-2/venv/lib/python3.9/site-packages/sweetviz/series_analyzer_numeric.py:25: FutureWarning:\n",
      "\n",
      "The 'mad' method is deprecated and will be removed in a future version. To compute the same result, you may do `(df - df.mean()).abs().mean()`.\n",
      "\n",
      "/Users/matuskocian/PycharmProjects/Zadanie-2/venv/lib/python3.9/site-packages/sweetviz/series_analyzer_numeric.py:25: FutureWarning:\n",
      "\n",
      "The 'mad' method is deprecated and will be removed in a future version. To compute the same result, you may do `(df - df.mean()).abs().mean()`.\n",
      "\n",
      "/Users/matuskocian/PycharmProjects/Zadanie-2/venv/lib/python3.9/site-packages/sweetviz/series_analyzer_numeric.py:25: FutureWarning:\n",
      "\n",
      "The 'mad' method is deprecated and will be removed in a future version. To compute the same result, you may do `(df - df.mean()).abs().mean()`.\n",
      "\n",
      "/Users/matuskocian/PycharmProjects/Zadanie-2/venv/lib/python3.9/site-packages/sweetviz/series_analyzer_cat.py:28: FutureWarning:\n",
      "\n",
      "iteritems is deprecated and will be removed in a future version. Use .items instead.\n",
      "\n",
      "/Users/matuskocian/PycharmProjects/Zadanie-2/venv/lib/python3.9/site-packages/sweetviz/series_analyzer_numeric.py:25: FutureWarning:\n",
      "\n",
      "The 'mad' method is deprecated and will be removed in a future version. To compute the same result, you may do `(df - df.mean()).abs().mean()`.\n",
      "\n",
      "/Users/matuskocian/PycharmProjects/Zadanie-2/venv/lib/python3.9/site-packages/sweetviz/series_analyzer_numeric.py:25: FutureWarning:\n",
      "\n",
      "The 'mad' method is deprecated and will be removed in a future version. To compute the same result, you may do `(df - df.mean()).abs().mean()`.\n",
      "\n",
      "/Users/matuskocian/PycharmProjects/Zadanie-2/venv/lib/python3.9/site-packages/sweetviz/series_analyzer_cat.py:28: FutureWarning:\n",
      "\n",
      "iteritems is deprecated and will be removed in a future version. Use .items instead.\n",
      "\n",
      "/Users/matuskocian/PycharmProjects/Zadanie-2/venv/lib/python3.9/site-packages/sweetviz/series_analyzer_numeric.py:25: FutureWarning:\n",
      "\n",
      "The 'mad' method is deprecated and will be removed in a future version. To compute the same result, you may do `(df - df.mean()).abs().mean()`.\n",
      "\n",
      "/Users/matuskocian/PycharmProjects/Zadanie-2/venv/lib/python3.9/site-packages/sweetviz/series_analyzer_cat.py:28: FutureWarning:\n",
      "\n",
      "iteritems is deprecated and will be removed in a future version. Use .items instead.\n",
      "\n",
      "/Users/matuskocian/PycharmProjects/Zadanie-2/venv/lib/python3.9/site-packages/sweetviz/series_analyzer_cat.py:28: FutureWarning:\n",
      "\n",
      "iteritems is deprecated and will be removed in a future version. Use .items instead.\n",
      "\n",
      "/Users/matuskocian/PycharmProjects/Zadanie-2/venv/lib/python3.9/site-packages/sweetviz/series_analyzer_cat.py:28: FutureWarning:\n",
      "\n",
      "iteritems is deprecated and will be removed in a future version. Use .items instead.\n",
      "\n",
      "/Users/matuskocian/PycharmProjects/Zadanie-2/venv/lib/python3.9/site-packages/sweetviz/series_analyzer_cat.py:28: FutureWarning:\n",
      "\n",
      "iteritems is deprecated and will be removed in a future version. Use .items instead.\n",
      "\n",
      "/Users/matuskocian/PycharmProjects/Zadanie-2/venv/lib/python3.9/site-packages/sweetviz/series_analyzer_cat.py:28: FutureWarning:\n",
      "\n",
      "iteritems is deprecated and will be removed in a future version. Use .items instead.\n",
      "\n",
      "/Users/matuskocian/PycharmProjects/Zadanie-2/venv/lib/python3.9/site-packages/sweetviz/series_analyzer_cat.py:28: FutureWarning:\n",
      "\n",
      "iteritems is deprecated and will be removed in a future version. Use .items instead.\n",
      "\n",
      "/Users/matuskocian/PycharmProjects/Zadanie-2/venv/lib/python3.9/site-packages/sweetviz/series_analyzer_cat.py:28: FutureWarning:\n",
      "\n",
      "iteritems is deprecated and will be removed in a future version. Use .items instead.\n",
      "\n",
      "/Users/matuskocian/PycharmProjects/Zadanie-2/venv/lib/python3.9/site-packages/sweetviz/series_analyzer_cat.py:28: FutureWarning:\n",
      "\n",
      "iteritems is deprecated and will be removed in a future version. Use .items instead.\n",
      "\n",
      "/Users/matuskocian/PycharmProjects/Zadanie-2/venv/lib/python3.9/site-packages/sweetviz/series_analyzer_cat.py:28: FutureWarning:\n",
      "\n",
      "iteritems is deprecated and will be removed in a future version. Use .items instead.\n",
      "\n",
      "/Users/matuskocian/PycharmProjects/Zadanie-2/venv/lib/python3.9/site-packages/sweetviz/series_analyzer_cat.py:28: FutureWarning:\n",
      "\n",
      "iteritems is deprecated and will be removed in a future version. Use .items instead.\n",
      "\n",
      "/Users/matuskocian/PycharmProjects/Zadanie-2/venv/lib/python3.9/site-packages/sweetviz/series_analyzer_cat.py:28: FutureWarning:\n",
      "\n",
      "iteritems is deprecated and will be removed in a future version. Use .items instead.\n",
      "\n",
      "/Users/matuskocian/PycharmProjects/Zadanie-2/venv/lib/python3.9/site-packages/sweetviz/series_analyzer_cat.py:28: FutureWarning:\n",
      "\n",
      "iteritems is deprecated and will be removed in a future version. Use .items instead.\n",
      "\n",
      "/Users/matuskocian/PycharmProjects/Zadanie-2/venv/lib/python3.9/site-packages/sweetviz/series_analyzer_cat.py:28: FutureWarning:\n",
      "\n",
      "iteritems is deprecated and will be removed in a future version. Use .items instead.\n",
      "\n",
      "/Users/matuskocian/PycharmProjects/Zadanie-2/venv/lib/python3.9/site-packages/sweetviz/series_analyzer_cat.py:28: FutureWarning:\n",
      "\n",
      "iteritems is deprecated and will be removed in a future version. Use .items instead.\n",
      "\n",
      "/Users/matuskocian/PycharmProjects/Zadanie-2/venv/lib/python3.9/site-packages/sweetviz/series_analyzer_cat.py:28: FutureWarning:\n",
      "\n",
      "iteritems is deprecated and will be removed in a future version. Use .items instead.\n",
      "\n",
      "/Users/matuskocian/PycharmProjects/Zadanie-2/venv/lib/python3.9/site-packages/sweetviz/series_analyzer_cat.py:28: FutureWarning:\n",
      "\n",
      "iteritems is deprecated and will be removed in a future version. Use .items instead.\n",
      "\n",
      "/Users/matuskocian/PycharmProjects/Zadanie-2/venv/lib/python3.9/site-packages/sweetviz/series_analyzer_cat.py:28: FutureWarning:\n",
      "\n",
      "iteritems is deprecated and will be removed in a future version. Use .items instead.\n",
      "\n",
      "/Users/matuskocian/PycharmProjects/Zadanie-2/venv/lib/python3.9/site-packages/sweetviz/series_analyzer_cat.py:28: FutureWarning:\n",
      "\n",
      "iteritems is deprecated and will be removed in a future version. Use .items instead.\n",
      "\n",
      "/Users/matuskocian/PycharmProjects/Zadanie-2/venv/lib/python3.9/site-packages/sweetviz/series_analyzer_cat.py:28: FutureWarning:\n",
      "\n",
      "iteritems is deprecated and will be removed in a future version. Use .items instead.\n",
      "\n",
      "/Users/matuskocian/PycharmProjects/Zadanie-2/venv/lib/python3.9/site-packages/sweetviz/series_analyzer_cat.py:28: FutureWarning:\n",
      "\n",
      "iteritems is deprecated and will be removed in a future version. Use .items instead.\n",
      "\n",
      "/Users/matuskocian/PycharmProjects/Zadanie-2/venv/lib/python3.9/site-packages/sweetviz/series_analyzer_cat.py:28: FutureWarning:\n",
      "\n",
      "iteritems is deprecated and will be removed in a future version. Use .items instead.\n",
      "\n",
      "/Users/matuskocian/PycharmProjects/Zadanie-2/venv/lib/python3.9/site-packages/sweetviz/series_analyzer_cat.py:28: FutureWarning:\n",
      "\n",
      "iteritems is deprecated and will be removed in a future version. Use .items instead.\n",
      "\n",
      "/Users/matuskocian/PycharmProjects/Zadanie-2/venv/lib/python3.9/site-packages/sweetviz/series_analyzer_cat.py:28: FutureWarning:\n",
      "\n",
      "iteritems is deprecated and will be removed in a future version. Use .items instead.\n",
      "\n",
      "/Users/matuskocian/PycharmProjects/Zadanie-2/venv/lib/python3.9/site-packages/sweetviz/series_analyzer_cat.py:28: FutureWarning:\n",
      "\n",
      "iteritems is deprecated and will be removed in a future version. Use .items instead.\n",
      "\n",
      "/Users/matuskocian/PycharmProjects/Zadanie-2/venv/lib/python3.9/site-packages/sweetviz/series_analyzer_cat.py:28: FutureWarning:\n",
      "\n",
      "iteritems is deprecated and will be removed in a future version. Use .items instead.\n",
      "\n",
      "/Users/matuskocian/PycharmProjects/Zadanie-2/venv/lib/python3.9/site-packages/sweetviz/series_analyzer_cat.py:28: FutureWarning:\n",
      "\n",
      "iteritems is deprecated and will be removed in a future version. Use .items instead.\n",
      "\n",
      "/Users/matuskocian/PycharmProjects/Zadanie-2/venv/lib/python3.9/site-packages/sweetviz/series_analyzer_cat.py:28: FutureWarning:\n",
      "\n",
      "iteritems is deprecated and will be removed in a future version. Use .items instead.\n",
      "\n",
      "/Users/matuskocian/PycharmProjects/Zadanie-2/venv/lib/python3.9/site-packages/sweetviz/series_analyzer_cat.py:28: FutureWarning:\n",
      "\n",
      "iteritems is deprecated and will be removed in a future version. Use .items instead.\n",
      "\n",
      "/Users/matuskocian/PycharmProjects/Zadanie-2/venv/lib/python3.9/site-packages/sweetviz/series_analyzer_cat.py:28: FutureWarning:\n",
      "\n",
      "iteritems is deprecated and will be removed in a future version. Use .items instead.\n",
      "\n",
      "/Users/matuskocian/PycharmProjects/Zadanie-2/venv/lib/python3.9/site-packages/sweetviz/series_analyzer_cat.py:28: FutureWarning:\n",
      "\n",
      "iteritems is deprecated and will be removed in a future version. Use .items instead.\n",
      "\n",
      "/Users/matuskocian/PycharmProjects/Zadanie-2/venv/lib/python3.9/site-packages/sweetviz/series_analyzer_cat.py:28: FutureWarning:\n",
      "\n",
      "iteritems is deprecated and will be removed in a future version. Use .items instead.\n",
      "\n",
      "/Users/matuskocian/PycharmProjects/Zadanie-2/venv/lib/python3.9/site-packages/sweetviz/series_analyzer_cat.py:28: FutureWarning:\n",
      "\n",
      "iteritems is deprecated and will be removed in a future version. Use .items instead.\n",
      "\n",
      "/Users/matuskocian/PycharmProjects/Zadanie-2/venv/lib/python3.9/site-packages/sweetviz/series_analyzer_cat.py:28: FutureWarning:\n",
      "\n",
      "iteritems is deprecated and will be removed in a future version. Use .items instead.\n",
      "\n",
      "/Users/matuskocian/PycharmProjects/Zadanie-2/venv/lib/python3.9/site-packages/sweetviz/series_analyzer_cat.py:28: FutureWarning:\n",
      "\n",
      "iteritems is deprecated and will be removed in a future version. Use .items instead.\n",
      "\n",
      "/Users/matuskocian/PycharmProjects/Zadanie-2/venv/lib/python3.9/site-packages/sweetviz/series_analyzer_cat.py:28: FutureWarning:\n",
      "\n",
      "iteritems is deprecated and will be removed in a future version. Use .items instead.\n",
      "\n",
      "/Users/matuskocian/PycharmProjects/Zadanie-2/venv/lib/python3.9/site-packages/sweetviz/series_analyzer_cat.py:28: FutureWarning:\n",
      "\n",
      "iteritems is deprecated and will be removed in a future version. Use .items instead.\n",
      "\n",
      "/Users/matuskocian/PycharmProjects/Zadanie-2/venv/lib/python3.9/site-packages/sweetviz/series_analyzer_cat.py:28: FutureWarning:\n",
      "\n",
      "iteritems is deprecated and will be removed in a future version. Use .items instead.\n",
      "\n",
      "/Users/matuskocian/PycharmProjects/Zadanie-2/venv/lib/python3.9/site-packages/sweetviz/series_analyzer_cat.py:28: FutureWarning:\n",
      "\n",
      "iteritems is deprecated and will be removed in a future version. Use .items instead.\n",
      "\n",
      "/Users/matuskocian/PycharmProjects/Zadanie-2/venv/lib/python3.9/site-packages/sweetviz/series_analyzer_cat.py:28: FutureWarning:\n",
      "\n",
      "iteritems is deprecated and will be removed in a future version. Use .items instead.\n",
      "\n",
      "/Users/matuskocian/PycharmProjects/Zadanie-2/venv/lib/python3.9/site-packages/sweetviz/series_analyzer_cat.py:28: FutureWarning:\n",
      "\n",
      "iteritems is deprecated and will be removed in a future version. Use .items instead.\n",
      "\n",
      "/Users/matuskocian/PycharmProjects/Zadanie-2/venv/lib/python3.9/site-packages/sweetviz/series_analyzer_cat.py:28: FutureWarning:\n",
      "\n",
      "iteritems is deprecated and will be removed in a future version. Use .items instead.\n",
      "\n",
      "/Users/matuskocian/PycharmProjects/Zadanie-2/venv/lib/python3.9/site-packages/sweetviz/series_analyzer_cat.py:28: FutureWarning:\n",
      "\n",
      "iteritems is deprecated and will be removed in a future version. Use .items instead.\n",
      "\n",
      "/Users/matuskocian/PycharmProjects/Zadanie-2/venv/lib/python3.9/site-packages/sweetviz/series_analyzer_cat.py:28: FutureWarning:\n",
      "\n",
      "iteritems is deprecated and will be removed in a future version. Use .items instead.\n",
      "\n",
      "/Users/matuskocian/PycharmProjects/Zadanie-2/venv/lib/python3.9/site-packages/sweetviz/series_analyzer_cat.py:28: FutureWarning:\n",
      "\n",
      "iteritems is deprecated and will be removed in a future version. Use .items instead.\n",
      "\n",
      "/Users/matuskocian/PycharmProjects/Zadanie-2/venv/lib/python3.9/site-packages/sweetviz/series_analyzer_cat.py:28: FutureWarning:\n",
      "\n",
      "iteritems is deprecated and will be removed in a future version. Use .items instead.\n",
      "\n",
      "/Users/matuskocian/PycharmProjects/Zadanie-2/venv/lib/python3.9/site-packages/sweetviz/series_analyzer_cat.py:28: FutureWarning:\n",
      "\n",
      "iteritems is deprecated and will be removed in a future version. Use .items instead.\n",
      "\n",
      "/Users/matuskocian/PycharmProjects/Zadanie-2/venv/lib/python3.9/site-packages/sweetviz/series_analyzer_cat.py:28: FutureWarning:\n",
      "\n",
      "iteritems is deprecated and will be removed in a future version. Use .items instead.\n",
      "\n",
      "/Users/matuskocian/PycharmProjects/Zadanie-2/venv/lib/python3.9/site-packages/sweetviz/series_analyzer_cat.py:28: FutureWarning:\n",
      "\n",
      "iteritems is deprecated and will be removed in a future version. Use .items instead.\n",
      "\n",
      "/Users/matuskocian/PycharmProjects/Zadanie-2/venv/lib/python3.9/site-packages/sweetviz/series_analyzer_cat.py:28: FutureWarning:\n",
      "\n",
      "iteritems is deprecated and will be removed in a future version. Use .items instead.\n",
      "\n",
      "/Users/matuskocian/PycharmProjects/Zadanie-2/venv/lib/python3.9/site-packages/sweetviz/series_analyzer_cat.py:28: FutureWarning:\n",
      "\n",
      "iteritems is deprecated and will be removed in a future version. Use .items instead.\n",
      "\n",
      "/Users/matuskocian/PycharmProjects/Zadanie-2/venv/lib/python3.9/site-packages/sweetviz/series_analyzer_cat.py:28: FutureWarning:\n",
      "\n",
      "iteritems is deprecated and will be removed in a future version. Use .items instead.\n",
      "\n",
      "/Users/matuskocian/PycharmProjects/Zadanie-2/venv/lib/python3.9/site-packages/sweetviz/series_analyzer_cat.py:28: FutureWarning:\n",
      "\n",
      "iteritems is deprecated and will be removed in a future version. Use .items instead.\n",
      "\n",
      "/Users/matuskocian/PycharmProjects/Zadanie-2/venv/lib/python3.9/site-packages/sweetviz/series_analyzer_cat.py:28: FutureWarning:\n",
      "\n",
      "iteritems is deprecated and will be removed in a future version. Use .items instead.\n",
      "\n",
      "/Users/matuskocian/PycharmProjects/Zadanie-2/venv/lib/python3.9/site-packages/sweetviz/series_analyzer_cat.py:28: FutureWarning:\n",
      "\n",
      "iteritems is deprecated and will be removed in a future version. Use .items instead.\n",
      "\n",
      "/Users/matuskocian/PycharmProjects/Zadanie-2/venv/lib/python3.9/site-packages/sweetviz/series_analyzer_cat.py:28: FutureWarning:\n",
      "\n",
      "iteritems is deprecated and will be removed in a future version. Use .items instead.\n",
      "\n",
      "/Users/matuskocian/PycharmProjects/Zadanie-2/venv/lib/python3.9/site-packages/sweetviz/series_analyzer_cat.py:28: FutureWarning:\n",
      "\n",
      "iteritems is deprecated and will be removed in a future version. Use .items instead.\n",
      "\n",
      "/Users/matuskocian/PycharmProjects/Zadanie-2/venv/lib/python3.9/site-packages/sweetviz/series_analyzer_cat.py:28: FutureWarning:\n",
      "\n",
      "iteritems is deprecated and will be removed in a future version. Use .items instead.\n",
      "\n",
      "/Users/matuskocian/PycharmProjects/Zadanie-2/venv/lib/python3.9/site-packages/sweetviz/series_analyzer_cat.py:28: FutureWarning:\n",
      "\n",
      "iteritems is deprecated and will be removed in a future version. Use .items instead.\n",
      "\n",
      "/Users/matuskocian/PycharmProjects/Zadanie-2/venv/lib/python3.9/site-packages/sweetviz/series_analyzer_cat.py:28: FutureWarning:\n",
      "\n",
      "iteritems is deprecated and will be removed in a future version. Use .items instead.\n",
      "\n",
      "/Users/matuskocian/PycharmProjects/Zadanie-2/venv/lib/python3.9/site-packages/sweetviz/series_analyzer_cat.py:28: FutureWarning:\n",
      "\n",
      "iteritems is deprecated and will be removed in a future version. Use .items instead.\n",
      "\n",
      "/Users/matuskocian/PycharmProjects/Zadanie-2/venv/lib/python3.9/site-packages/sweetviz/series_analyzer_cat.py:28: FutureWarning:\n",
      "\n",
      "iteritems is deprecated and will be removed in a future version. Use .items instead.\n",
      "\n",
      "/Users/matuskocian/PycharmProjects/Zadanie-2/venv/lib/python3.9/site-packages/sweetviz/series_analyzer_cat.py:28: FutureWarning:\n",
      "\n",
      "iteritems is deprecated and will be removed in a future version. Use .items instead.\n",
      "\n",
      "/Users/matuskocian/PycharmProjects/Zadanie-2/venv/lib/python3.9/site-packages/sweetviz/series_analyzer_cat.py:28: FutureWarning:\n",
      "\n",
      "iteritems is deprecated and will be removed in a future version. Use .items instead.\n",
      "\n",
      "/Users/matuskocian/PycharmProjects/Zadanie-2/venv/lib/python3.9/site-packages/sweetviz/series_analyzer_cat.py:28: FutureWarning:\n",
      "\n",
      "iteritems is deprecated and will be removed in a future version. Use .items instead.\n",
      "\n",
      "/Users/matuskocian/PycharmProjects/Zadanie-2/venv/lib/python3.9/site-packages/sweetviz/series_analyzer_cat.py:28: FutureWarning:\n",
      "\n",
      "iteritems is deprecated and will be removed in a future version. Use .items instead.\n",
      "\n",
      "/Users/matuskocian/PycharmProjects/Zadanie-2/venv/lib/python3.9/site-packages/sweetviz/series_analyzer_cat.py:28: FutureWarning:\n",
      "\n",
      "iteritems is deprecated and will be removed in a future version. Use .items instead.\n",
      "\n",
      "/Users/matuskocian/PycharmProjects/Zadanie-2/venv/lib/python3.9/site-packages/sweetviz/series_analyzer_cat.py:28: FutureWarning:\n",
      "\n",
      "iteritems is deprecated and will be removed in a future version. Use .items instead.\n",
      "\n",
      "/Users/matuskocian/PycharmProjects/Zadanie-2/venv/lib/python3.9/site-packages/sweetviz/series_analyzer_cat.py:28: FutureWarning:\n",
      "\n",
      "iteritems is deprecated and will be removed in a future version. Use .items instead.\n",
      "\n",
      "/Users/matuskocian/PycharmProjects/Zadanie-2/venv/lib/python3.9/site-packages/sweetviz/series_analyzer_cat.py:28: FutureWarning:\n",
      "\n",
      "iteritems is deprecated and will be removed in a future version. Use .items instead.\n",
      "\n",
      "/Users/matuskocian/PycharmProjects/Zadanie-2/venv/lib/python3.9/site-packages/sweetviz/series_analyzer_cat.py:28: FutureWarning:\n",
      "\n",
      "iteritems is deprecated and will be removed in a future version. Use .items instead.\n",
      "\n",
      "/Users/matuskocian/PycharmProjects/Zadanie-2/venv/lib/python3.9/site-packages/sweetviz/series_analyzer_cat.py:28: FutureWarning:\n",
      "\n",
      "iteritems is deprecated and will be removed in a future version. Use .items instead.\n",
      "\n",
      "/Users/matuskocian/PycharmProjects/Zadanie-2/venv/lib/python3.9/site-packages/sweetviz/series_analyzer_cat.py:28: FutureWarning:\n",
      "\n",
      "iteritems is deprecated and will be removed in a future version. Use .items instead.\n",
      "\n",
      "/Users/matuskocian/PycharmProjects/Zadanie-2/venv/lib/python3.9/site-packages/sweetviz/series_analyzer_cat.py:28: FutureWarning:\n",
      "\n",
      "iteritems is deprecated and will be removed in a future version. Use .items instead.\n",
      "\n",
      "/Users/matuskocian/PycharmProjects/Zadanie-2/venv/lib/python3.9/site-packages/sweetviz/series_analyzer_cat.py:28: FutureWarning:\n",
      "\n",
      "iteritems is deprecated and will be removed in a future version. Use .items instead.\n",
      "\n",
      "/Users/matuskocian/PycharmProjects/Zadanie-2/venv/lib/python3.9/site-packages/sweetviz/series_analyzer_cat.py:28: FutureWarning:\n",
      "\n",
      "iteritems is deprecated and will be removed in a future version. Use .items instead.\n",
      "\n",
      "/Users/matuskocian/PycharmProjects/Zadanie-2/venv/lib/python3.9/site-packages/sweetviz/series_analyzer_cat.py:28: FutureWarning:\n",
      "\n",
      "iteritems is deprecated and will be removed in a future version. Use .items instead.\n",
      "\n",
      "/Users/matuskocian/PycharmProjects/Zadanie-2/venv/lib/python3.9/site-packages/sweetviz/series_analyzer_cat.py:28: FutureWarning:\n",
      "\n",
      "iteritems is deprecated and will be removed in a future version. Use .items instead.\n",
      "\n",
      "/Users/matuskocian/PycharmProjects/Zadanie-2/venv/lib/python3.9/site-packages/sweetviz/series_analyzer_cat.py:28: FutureWarning:\n",
      "\n",
      "iteritems is deprecated and will be removed in a future version. Use .items instead.\n",
      "\n",
      "/Users/matuskocian/PycharmProjects/Zadanie-2/venv/lib/python3.9/site-packages/sweetviz/series_analyzer_cat.py:28: FutureWarning:\n",
      "\n",
      "iteritems is deprecated and will be removed in a future version. Use .items instead.\n",
      "\n",
      "/Users/matuskocian/PycharmProjects/Zadanie-2/venv/lib/python3.9/site-packages/sweetviz/series_analyzer_cat.py:28: FutureWarning:\n",
      "\n",
      "iteritems is deprecated and will be removed in a future version. Use .items instead.\n",
      "\n",
      "/Users/matuskocian/PycharmProjects/Zadanie-2/venv/lib/python3.9/site-packages/sweetviz/series_analyzer_cat.py:28: FutureWarning:\n",
      "\n",
      "iteritems is deprecated and will be removed in a future version. Use .items instead.\n",
      "\n",
      "/Users/matuskocian/PycharmProjects/Zadanie-2/venv/lib/python3.9/site-packages/sweetviz/series_analyzer_cat.py:28: FutureWarning:\n",
      "\n",
      "iteritems is deprecated and will be removed in a future version. Use .items instead.\n",
      "\n",
      "/Users/matuskocian/PycharmProjects/Zadanie-2/venv/lib/python3.9/site-packages/sweetviz/series_analyzer_cat.py:28: FutureWarning:\n",
      "\n",
      "iteritems is deprecated and will be removed in a future version. Use .items instead.\n",
      "\n",
      "/Users/matuskocian/PycharmProjects/Zadanie-2/venv/lib/python3.9/site-packages/sweetviz/series_analyzer_cat.py:28: FutureWarning:\n",
      "\n",
      "iteritems is deprecated and will be removed in a future version. Use .items instead.\n",
      "\n",
      "/Users/matuskocian/PycharmProjects/Zadanie-2/venv/lib/python3.9/site-packages/sweetviz/series_analyzer_cat.py:28: FutureWarning:\n",
      "\n",
      "iteritems is deprecated and will be removed in a future version. Use .items instead.\n",
      "\n",
      "/Users/matuskocian/PycharmProjects/Zadanie-2/venv/lib/python3.9/site-packages/sweetviz/series_analyzer_cat.py:28: FutureWarning:\n",
      "\n",
      "iteritems is deprecated and will be removed in a future version. Use .items instead.\n",
      "\n",
      "/Users/matuskocian/PycharmProjects/Zadanie-2/venv/lib/python3.9/site-packages/sweetviz/series_analyzer_cat.py:28: FutureWarning:\n",
      "\n",
      "iteritems is deprecated and will be removed in a future version. Use .items instead.\n",
      "\n",
      "/Users/matuskocian/PycharmProjects/Zadanie-2/venv/lib/python3.9/site-packages/sweetviz/series_analyzer_cat.py:28: FutureWarning:\n",
      "\n",
      "iteritems is deprecated and will be removed in a future version. Use .items instead.\n",
      "\n",
      "/Users/matuskocian/PycharmProjects/Zadanie-2/venv/lib/python3.9/site-packages/sweetviz/series_analyzer_cat.py:28: FutureWarning:\n",
      "\n",
      "iteritems is deprecated and will be removed in a future version. Use .items instead.\n",
      "\n",
      "/Users/matuskocian/PycharmProjects/Zadanie-2/venv/lib/python3.9/site-packages/sweetviz/series_analyzer_cat.py:28: FutureWarning:\n",
      "\n",
      "iteritems is deprecated and will be removed in a future version. Use .items instead.\n",
      "\n",
      "/Users/matuskocian/PycharmProjects/Zadanie-2/venv/lib/python3.9/site-packages/sweetviz/series_analyzer_cat.py:28: FutureWarning:\n",
      "\n",
      "iteritems is deprecated and will be removed in a future version. Use .items instead.\n",
      "\n",
      "/Users/matuskocian/PycharmProjects/Zadanie-2/venv/lib/python3.9/site-packages/sweetviz/series_analyzer_cat.py:28: FutureWarning:\n",
      "\n",
      "iteritems is deprecated and will be removed in a future version. Use .items instead.\n",
      "\n",
      "/Users/matuskocian/PycharmProjects/Zadanie-2/venv/lib/python3.9/site-packages/sweetviz/series_analyzer_cat.py:28: FutureWarning:\n",
      "\n",
      "iteritems is deprecated and will be removed in a future version. Use .items instead.\n",
      "\n",
      "/Users/matuskocian/PycharmProjects/Zadanie-2/venv/lib/python3.9/site-packages/sweetviz/series_analyzer_cat.py:28: FutureWarning:\n",
      "\n",
      "iteritems is deprecated and will be removed in a future version. Use .items instead.\n",
      "\n",
      "/Users/matuskocian/PycharmProjects/Zadanie-2/venv/lib/python3.9/site-packages/sweetviz/series_analyzer_cat.py:28: FutureWarning:\n",
      "\n",
      "iteritems is deprecated and will be removed in a future version. Use .items instead.\n",
      "\n",
      "/Users/matuskocian/PycharmProjects/Zadanie-2/venv/lib/python3.9/site-packages/sweetviz/series_analyzer_cat.py:28: FutureWarning:\n",
      "\n",
      "iteritems is deprecated and will be removed in a future version. Use .items instead.\n",
      "\n",
      "/Users/matuskocian/PycharmProjects/Zadanie-2/venv/lib/python3.9/site-packages/sweetviz/series_analyzer_cat.py:28: FutureWarning:\n",
      "\n",
      "iteritems is deprecated and will be removed in a future version. Use .items instead.\n",
      "\n",
      "/Users/matuskocian/PycharmProjects/Zadanie-2/venv/lib/python3.9/site-packages/sweetviz/series_analyzer_cat.py:28: FutureWarning:\n",
      "\n",
      "iteritems is deprecated and will be removed in a future version. Use .items instead.\n",
      "\n",
      "/Users/matuskocian/PycharmProjects/Zadanie-2/venv/lib/python3.9/site-packages/sweetviz/series_analyzer_cat.py:28: FutureWarning:\n",
      "\n",
      "iteritems is deprecated and will be removed in a future version. Use .items instead.\n",
      "\n",
      "/Users/matuskocian/PycharmProjects/Zadanie-2/venv/lib/python3.9/site-packages/sweetviz/series_analyzer_cat.py:28: FutureWarning:\n",
      "\n",
      "iteritems is deprecated and will be removed in a future version. Use .items instead.\n",
      "\n",
      "/Users/matuskocian/PycharmProjects/Zadanie-2/venv/lib/python3.9/site-packages/sweetviz/series_analyzer_cat.py:28: FutureWarning:\n",
      "\n",
      "iteritems is deprecated and will be removed in a future version. Use .items instead.\n",
      "\n",
      "/Users/matuskocian/PycharmProjects/Zadanie-2/venv/lib/python3.9/site-packages/sweetviz/series_analyzer_cat.py:28: FutureWarning:\n",
      "\n",
      "iteritems is deprecated and will be removed in a future version. Use .items instead.\n",
      "\n",
      "/Users/matuskocian/PycharmProjects/Zadanie-2/venv/lib/python3.9/site-packages/sweetviz/series_analyzer_cat.py:28: FutureWarning:\n",
      "\n",
      "iteritems is deprecated and will be removed in a future version. Use .items instead.\n",
      "\n",
      "/Users/matuskocian/PycharmProjects/Zadanie-2/venv/lib/python3.9/site-packages/sweetviz/series_analyzer_cat.py:28: FutureWarning:\n",
      "\n",
      "iteritems is deprecated and will be removed in a future version. Use .items instead.\n",
      "\n",
      "/Users/matuskocian/PycharmProjects/Zadanie-2/venv/lib/python3.9/site-packages/sweetviz/series_analyzer_cat.py:28: FutureWarning:\n",
      "\n",
      "iteritems is deprecated and will be removed in a future version. Use .items instead.\n",
      "\n",
      "/Users/matuskocian/PycharmProjects/Zadanie-2/venv/lib/python3.9/site-packages/sweetviz/series_analyzer_cat.py:28: FutureWarning:\n",
      "\n",
      "iteritems is deprecated and will be removed in a future version. Use .items instead.\n",
      "\n",
      "/Users/matuskocian/PycharmProjects/Zadanie-2/venv/lib/python3.9/site-packages/sweetviz/series_analyzer_cat.py:28: FutureWarning:\n",
      "\n",
      "iteritems is deprecated and will be removed in a future version. Use .items instead.\n",
      "\n",
      "/Users/matuskocian/PycharmProjects/Zadanie-2/venv/lib/python3.9/site-packages/sweetviz/series_analyzer_cat.py:28: FutureWarning:\n",
      "\n",
      "iteritems is deprecated and will be removed in a future version. Use .items instead.\n",
      "\n",
      "/Users/matuskocian/PycharmProjects/Zadanie-2/venv/lib/python3.9/site-packages/sweetviz/series_analyzer_cat.py:28: FutureWarning:\n",
      "\n",
      "iteritems is deprecated and will be removed in a future version. Use .items instead.\n",
      "\n",
      "/Users/matuskocian/PycharmProjects/Zadanie-2/venv/lib/python3.9/site-packages/sweetviz/series_analyzer_cat.py:28: FutureWarning:\n",
      "\n",
      "iteritems is deprecated and will be removed in a future version. Use .items instead.\n",
      "\n",
      "/Users/matuskocian/PycharmProjects/Zadanie-2/venv/lib/python3.9/site-packages/sweetviz/series_analyzer_cat.py:28: FutureWarning:\n",
      "\n",
      "iteritems is deprecated and will be removed in a future version. Use .items instead.\n",
      "\n",
      "/Users/matuskocian/PycharmProjects/Zadanie-2/venv/lib/python3.9/site-packages/sweetviz/series_analyzer_cat.py:28: FutureWarning:\n",
      "\n",
      "iteritems is deprecated and will be removed in a future version. Use .items instead.\n",
      "\n",
      "/Users/matuskocian/PycharmProjects/Zadanie-2/venv/lib/python3.9/site-packages/sweetviz/series_analyzer_cat.py:28: FutureWarning:\n",
      "\n",
      "iteritems is deprecated and will be removed in a future version. Use .items instead.\n",
      "\n",
      "/Users/matuskocian/PycharmProjects/Zadanie-2/venv/lib/python3.9/site-packages/sweetviz/series_analyzer_cat.py:28: FutureWarning:\n",
      "\n",
      "iteritems is deprecated and will be removed in a future version. Use .items instead.\n",
      "\n",
      "/Users/matuskocian/PycharmProjects/Zadanie-2/venv/lib/python3.9/site-packages/sweetviz/series_analyzer_cat.py:28: FutureWarning:\n",
      "\n",
      "iteritems is deprecated and will be removed in a future version. Use .items instead.\n",
      "\n",
      "/Users/matuskocian/PycharmProjects/Zadanie-2/venv/lib/python3.9/site-packages/sweetviz/series_analyzer_cat.py:28: FutureWarning:\n",
      "\n",
      "iteritems is deprecated and will be removed in a future version. Use .items instead.\n",
      "\n",
      "/Users/matuskocian/PycharmProjects/Zadanie-2/venv/lib/python3.9/site-packages/sweetviz/series_analyzer_cat.py:28: FutureWarning:\n",
      "\n",
      "iteritems is deprecated and will be removed in a future version. Use .items instead.\n",
      "\n",
      "/Users/matuskocian/PycharmProjects/Zadanie-2/venv/lib/python3.9/site-packages/sweetviz/series_analyzer_cat.py:28: FutureWarning:\n",
      "\n",
      "iteritems is deprecated and will be removed in a future version. Use .items instead.\n",
      "\n",
      "/Users/matuskocian/PycharmProjects/Zadanie-2/venv/lib/python3.9/site-packages/sweetviz/series_analyzer_cat.py:28: FutureWarning:\n",
      "\n",
      "iteritems is deprecated and will be removed in a future version. Use .items instead.\n",
      "\n",
      "/Users/matuskocian/PycharmProjects/Zadanie-2/venv/lib/python3.9/site-packages/sweetviz/series_analyzer_cat.py:28: FutureWarning:\n",
      "\n",
      "iteritems is deprecated and will be removed in a future version. Use .items instead.\n",
      "\n",
      "/Users/matuskocian/PycharmProjects/Zadanie-2/venv/lib/python3.9/site-packages/sweetviz/series_analyzer_cat.py:28: FutureWarning:\n",
      "\n",
      "iteritems is deprecated and will be removed in a future version. Use .items instead.\n",
      "\n",
      "/Users/matuskocian/PycharmProjects/Zadanie-2/venv/lib/python3.9/site-packages/sweetviz/series_analyzer_cat.py:28: FutureWarning:\n",
      "\n",
      "iteritems is deprecated and will be removed in a future version. Use .items instead.\n",
      "\n",
      "/Users/matuskocian/PycharmProjects/Zadanie-2/venv/lib/python3.9/site-packages/sweetviz/series_analyzer_cat.py:28: FutureWarning:\n",
      "\n",
      "iteritems is deprecated and will be removed in a future version. Use .items instead.\n",
      "\n",
      "/Users/matuskocian/PycharmProjects/Zadanie-2/venv/lib/python3.9/site-packages/sweetviz/series_analyzer_cat.py:28: FutureWarning:\n",
      "\n",
      "iteritems is deprecated and will be removed in a future version. Use .items instead.\n",
      "\n",
      "/Users/matuskocian/PycharmProjects/Zadanie-2/venv/lib/python3.9/site-packages/sweetviz/series_analyzer_cat.py:28: FutureWarning:\n",
      "\n",
      "iteritems is deprecated and will be removed in a future version. Use .items instead.\n",
      "\n",
      "/Users/matuskocian/PycharmProjects/Zadanie-2/venv/lib/python3.9/site-packages/sweetviz/series_analyzer_cat.py:28: FutureWarning:\n",
      "\n",
      "iteritems is deprecated and will be removed in a future version. Use .items instead.\n",
      "\n",
      "/Users/matuskocian/PycharmProjects/Zadanie-2/venv/lib/python3.9/site-packages/sweetviz/series_analyzer_cat.py:28: FutureWarning:\n",
      "\n",
      "iteritems is deprecated and will be removed in a future version. Use .items instead.\n",
      "\n",
      "/Users/matuskocian/PycharmProjects/Zadanie-2/venv/lib/python3.9/site-packages/sweetviz/series_analyzer_cat.py:28: FutureWarning:\n",
      "\n",
      "iteritems is deprecated and will be removed in a future version. Use .items instead.\n",
      "\n",
      "/Users/matuskocian/PycharmProjects/Zadanie-2/venv/lib/python3.9/site-packages/sweetviz/series_analyzer_cat.py:28: FutureWarning:\n",
      "\n",
      "iteritems is deprecated and will be removed in a future version. Use .items instead.\n",
      "\n",
      "/Users/matuskocian/PycharmProjects/Zadanie-2/venv/lib/python3.9/site-packages/sweetviz/series_analyzer_cat.py:28: FutureWarning:\n",
      "\n",
      "iteritems is deprecated and will be removed in a future version. Use .items instead.\n",
      "\n",
      "/Users/matuskocian/PycharmProjects/Zadanie-2/venv/lib/python3.9/site-packages/sweetviz/series_analyzer_cat.py:28: FutureWarning:\n",
      "\n",
      "iteritems is deprecated and will be removed in a future version. Use .items instead.\n",
      "\n",
      "/Users/matuskocian/PycharmProjects/Zadanie-2/venv/lib/python3.9/site-packages/sweetviz/series_analyzer_cat.py:28: FutureWarning:\n",
      "\n",
      "iteritems is deprecated and will be removed in a future version. Use .items instead.\n",
      "\n",
      "/Users/matuskocian/PycharmProjects/Zadanie-2/venv/lib/python3.9/site-packages/sweetviz/series_analyzer_cat.py:28: FutureWarning:\n",
      "\n",
      "iteritems is deprecated and will be removed in a future version. Use .items instead.\n",
      "\n",
      "/Users/matuskocian/PycharmProjects/Zadanie-2/venv/lib/python3.9/site-packages/sweetviz/series_analyzer_cat.py:28: FutureWarning:\n",
      "\n",
      "iteritems is deprecated and will be removed in a future version. Use .items instead.\n",
      "\n",
      "/Users/matuskocian/PycharmProjects/Zadanie-2/venv/lib/python3.9/site-packages/sweetviz/series_analyzer_cat.py:28: FutureWarning:\n",
      "\n",
      "iteritems is deprecated and will be removed in a future version. Use .items instead.\n",
      "\n",
      "/Users/matuskocian/PycharmProjects/Zadanie-2/venv/lib/python3.9/site-packages/sweetviz/series_analyzer_cat.py:28: FutureWarning:\n",
      "\n",
      "iteritems is deprecated and will be removed in a future version. Use .items instead.\n",
      "\n",
      "/Users/matuskocian/PycharmProjects/Zadanie-2/venv/lib/python3.9/site-packages/sweetviz/series_analyzer_cat.py:28: FutureWarning:\n",
      "\n",
      "iteritems is deprecated and will be removed in a future version. Use .items instead.\n",
      "\n",
      "/Users/matuskocian/PycharmProjects/Zadanie-2/venv/lib/python3.9/site-packages/sweetviz/series_analyzer_cat.py:28: FutureWarning:\n",
      "\n",
      "iteritems is deprecated and will be removed in a future version. Use .items instead.\n",
      "\n",
      "/Users/matuskocian/PycharmProjects/Zadanie-2/venv/lib/python3.9/site-packages/sweetviz/series_analyzer_cat.py:28: FutureWarning:\n",
      "\n",
      "iteritems is deprecated and will be removed in a future version. Use .items instead.\n",
      "\n",
      "/Users/matuskocian/PycharmProjects/Zadanie-2/venv/lib/python3.9/site-packages/sweetviz/series_analyzer_cat.py:28: FutureWarning:\n",
      "\n",
      "iteritems is deprecated and will be removed in a future version. Use .items instead.\n",
      "\n",
      "/Users/matuskocian/PycharmProjects/Zadanie-2/venv/lib/python3.9/site-packages/sweetviz/series_analyzer_cat.py:28: FutureWarning:\n",
      "\n",
      "iteritems is deprecated and will be removed in a future version. Use .items instead.\n",
      "\n",
      "/Users/matuskocian/PycharmProjects/Zadanie-2/venv/lib/python3.9/site-packages/sweetviz/series_analyzer_cat.py:28: FutureWarning:\n",
      "\n",
      "iteritems is deprecated and will be removed in a future version. Use .items instead.\n",
      "\n",
      "/Users/matuskocian/PycharmProjects/Zadanie-2/venv/lib/python3.9/site-packages/sweetviz/series_analyzer_cat.py:28: FutureWarning:\n",
      "\n",
      "iteritems is deprecated and will be removed in a future version. Use .items instead.\n",
      "\n",
      "/Users/matuskocian/PycharmProjects/Zadanie-2/venv/lib/python3.9/site-packages/sweetviz/series_analyzer_cat.py:28: FutureWarning:\n",
      "\n",
      "iteritems is deprecated and will be removed in a future version. Use .items instead.\n",
      "\n",
      "/Users/matuskocian/PycharmProjects/Zadanie-2/venv/lib/python3.9/site-packages/sweetviz/series_analyzer_cat.py:28: FutureWarning:\n",
      "\n",
      "iteritems is deprecated and will be removed in a future version. Use .items instead.\n",
      "\n",
      "/Users/matuskocian/PycharmProjects/Zadanie-2/venv/lib/python3.9/site-packages/sweetviz/series_analyzer_cat.py:28: FutureWarning:\n",
      "\n",
      "iteritems is deprecated and will be removed in a future version. Use .items instead.\n",
      "\n",
      "/Users/matuskocian/PycharmProjects/Zadanie-2/venv/lib/python3.9/site-packages/sweetviz/series_analyzer_cat.py:28: FutureWarning:\n",
      "\n",
      "iteritems is deprecated and will be removed in a future version. Use .items instead.\n",
      "\n",
      "/Users/matuskocian/PycharmProjects/Zadanie-2/venv/lib/python3.9/site-packages/sweetviz/series_analyzer_cat.py:28: FutureWarning:\n",
      "\n",
      "iteritems is deprecated and will be removed in a future version. Use .items instead.\n",
      "\n",
      "/Users/matuskocian/PycharmProjects/Zadanie-2/venv/lib/python3.9/site-packages/sweetviz/series_analyzer_cat.py:28: FutureWarning:\n",
      "\n",
      "iteritems is deprecated and will be removed in a future version. Use .items instead.\n",
      "\n",
      "/Users/matuskocian/PycharmProjects/Zadanie-2/venv/lib/python3.9/site-packages/sweetviz/series_analyzer_cat.py:28: FutureWarning:\n",
      "\n",
      "iteritems is deprecated and will be removed in a future version. Use .items instead.\n",
      "\n",
      "/Users/matuskocian/PycharmProjects/Zadanie-2/venv/lib/python3.9/site-packages/sweetviz/series_analyzer_cat.py:28: FutureWarning:\n",
      "\n",
      "iteritems is deprecated and will be removed in a future version. Use .items instead.\n",
      "\n",
      "/Users/matuskocian/PycharmProjects/Zadanie-2/venv/lib/python3.9/site-packages/sweetviz/series_analyzer_cat.py:28: FutureWarning:\n",
      "\n",
      "iteritems is deprecated and will be removed in a future version. Use .items instead.\n",
      "\n",
      "/Users/matuskocian/PycharmProjects/Zadanie-2/venv/lib/python3.9/site-packages/sweetviz/series_analyzer_cat.py:28: FutureWarning:\n",
      "\n",
      "iteritems is deprecated and will be removed in a future version. Use .items instead.\n",
      "\n",
      "/Users/matuskocian/PycharmProjects/Zadanie-2/venv/lib/python3.9/site-packages/sweetviz/series_analyzer_cat.py:28: FutureWarning:\n",
      "\n",
      "iteritems is deprecated and will be removed in a future version. Use .items instead.\n",
      "\n",
      "/Users/matuskocian/PycharmProjects/Zadanie-2/venv/lib/python3.9/site-packages/sweetviz/series_analyzer_cat.py:28: FutureWarning:\n",
      "\n",
      "iteritems is deprecated and will be removed in a future version. Use .items instead.\n",
      "\n",
      "/Users/matuskocian/PycharmProjects/Zadanie-2/venv/lib/python3.9/site-packages/sweetviz/series_analyzer_cat.py:28: FutureWarning:\n",
      "\n",
      "iteritems is deprecated and will be removed in a future version. Use .items instead.\n",
      "\n",
      "/Users/matuskocian/PycharmProjects/Zadanie-2/venv/lib/python3.9/site-packages/sweetviz/series_analyzer_cat.py:28: FutureWarning:\n",
      "\n",
      "iteritems is deprecated and will be removed in a future version. Use .items instead.\n",
      "\n",
      "/Users/matuskocian/PycharmProjects/Zadanie-2/venv/lib/python3.9/site-packages/sweetviz/series_analyzer_cat.py:28: FutureWarning:\n",
      "\n",
      "iteritems is deprecated and will be removed in a future version. Use .items instead.\n",
      "\n",
      "/Users/matuskocian/PycharmProjects/Zadanie-2/venv/lib/python3.9/site-packages/sweetviz/series_analyzer_cat.py:28: FutureWarning:\n",
      "\n",
      "iteritems is deprecated and will be removed in a future version. Use .items instead.\n",
      "\n",
      "/Users/matuskocian/PycharmProjects/Zadanie-2/venv/lib/python3.9/site-packages/sweetviz/series_analyzer_cat.py:28: FutureWarning:\n",
      "\n",
      "iteritems is deprecated and will be removed in a future version. Use .items instead.\n",
      "\n",
      "/Users/matuskocian/PycharmProjects/Zadanie-2/venv/lib/python3.9/site-packages/sweetviz/series_analyzer_cat.py:28: FutureWarning:\n",
      "\n",
      "iteritems is deprecated and will be removed in a future version. Use .items instead.\n",
      "\n",
      "/Users/matuskocian/PycharmProjects/Zadanie-2/venv/lib/python3.9/site-packages/sweetviz/series_analyzer_cat.py:28: FutureWarning:\n",
      "\n",
      "iteritems is deprecated and will be removed in a future version. Use .items instead.\n",
      "\n",
      "/Users/matuskocian/PycharmProjects/Zadanie-2/venv/lib/python3.9/site-packages/sweetviz/series_analyzer_cat.py:28: FutureWarning:\n",
      "\n",
      "iteritems is deprecated and will be removed in a future version. Use .items instead.\n",
      "\n",
      "/Users/matuskocian/PycharmProjects/Zadanie-2/venv/lib/python3.9/site-packages/sweetviz/series_analyzer_cat.py:28: FutureWarning:\n",
      "\n",
      "iteritems is deprecated and will be removed in a future version. Use .items instead.\n",
      "\n",
      "/Users/matuskocian/PycharmProjects/Zadanie-2/venv/lib/python3.9/site-packages/sweetviz/series_analyzer_cat.py:28: FutureWarning:\n",
      "\n",
      "iteritems is deprecated and will be removed in a future version. Use .items instead.\n",
      "\n",
      "/Users/matuskocian/PycharmProjects/Zadanie-2/venv/lib/python3.9/site-packages/sweetviz/series_analyzer_cat.py:28: FutureWarning:\n",
      "\n",
      "iteritems is deprecated and will be removed in a future version. Use .items instead.\n",
      "\n",
      "/Users/matuskocian/PycharmProjects/Zadanie-2/venv/lib/python3.9/site-packages/sweetviz/series_analyzer_cat.py:28: FutureWarning:\n",
      "\n",
      "iteritems is deprecated and will be removed in a future version. Use .items instead.\n",
      "\n",
      "/Users/matuskocian/PycharmProjects/Zadanie-2/venv/lib/python3.9/site-packages/sweetviz/series_analyzer_cat.py:28: FutureWarning:\n",
      "\n",
      "iteritems is deprecated and will be removed in a future version. Use .items instead.\n",
      "\n",
      "/Users/matuskocian/PycharmProjects/Zadanie-2/venv/lib/python3.9/site-packages/sweetviz/series_analyzer_cat.py:28: FutureWarning:\n",
      "\n",
      "iteritems is deprecated and will be removed in a future version. Use .items instead.\n",
      "\n",
      "/Users/matuskocian/PycharmProjects/Zadanie-2/venv/lib/python3.9/site-packages/sweetviz/series_analyzer_cat.py:28: FutureWarning:\n",
      "\n",
      "iteritems is deprecated and will be removed in a future version. Use .items instead.\n",
      "\n",
      "/Users/matuskocian/PycharmProjects/Zadanie-2/venv/lib/python3.9/site-packages/sweetviz/series_analyzer_cat.py:28: FutureWarning:\n",
      "\n",
      "iteritems is deprecated and will be removed in a future version. Use .items instead.\n",
      "\n",
      "/Users/matuskocian/PycharmProjects/Zadanie-2/venv/lib/python3.9/site-packages/sweetviz/series_analyzer_cat.py:28: FutureWarning:\n",
      "\n",
      "iteritems is deprecated and will be removed in a future version. Use .items instead.\n",
      "\n",
      "/Users/matuskocian/PycharmProjects/Zadanie-2/venv/lib/python3.9/site-packages/sweetviz/series_analyzer_cat.py:28: FutureWarning:\n",
      "\n",
      "iteritems is deprecated and will be removed in a future version. Use .items instead.\n",
      "\n",
      "/Users/matuskocian/PycharmProjects/Zadanie-2/venv/lib/python3.9/site-packages/sweetviz/series_analyzer_cat.py:28: FutureWarning:\n",
      "\n",
      "iteritems is deprecated and will be removed in a future version. Use .items instead.\n",
      "\n",
      "/Users/matuskocian/PycharmProjects/Zadanie-2/venv/lib/python3.9/site-packages/sweetviz/series_analyzer_cat.py:28: FutureWarning:\n",
      "\n",
      "iteritems is deprecated and will be removed in a future version. Use .items instead.\n",
      "\n",
      "/Users/matuskocian/PycharmProjects/Zadanie-2/venv/lib/python3.9/site-packages/sweetviz/series_analyzer_cat.py:28: FutureWarning:\n",
      "\n",
      "iteritems is deprecated and will be removed in a future version. Use .items instead.\n",
      "\n",
      "/Users/matuskocian/PycharmProjects/Zadanie-2/venv/lib/python3.9/site-packages/sweetviz/series_analyzer_cat.py:28: FutureWarning:\n",
      "\n",
      "iteritems is deprecated and will be removed in a future version. Use .items instead.\n",
      "\n",
      "/Users/matuskocian/PycharmProjects/Zadanie-2/venv/lib/python3.9/site-packages/sweetviz/series_analyzer_cat.py:28: FutureWarning:\n",
      "\n",
      "iteritems is deprecated and will be removed in a future version. Use .items instead.\n",
      "\n",
      "/Users/matuskocian/PycharmProjects/Zadanie-2/venv/lib/python3.9/site-packages/sweetviz/series_analyzer_cat.py:28: FutureWarning:\n",
      "\n",
      "iteritems is deprecated and will be removed in a future version. Use .items instead.\n",
      "\n",
      "/Users/matuskocian/PycharmProjects/Zadanie-2/venv/lib/python3.9/site-packages/sweetviz/series_analyzer_cat.py:28: FutureWarning:\n",
      "\n",
      "iteritems is deprecated and will be removed in a future version. Use .items instead.\n",
      "\n",
      "/Users/matuskocian/PycharmProjects/Zadanie-2/venv/lib/python3.9/site-packages/sweetviz/series_analyzer_cat.py:28: FutureWarning:\n",
      "\n",
      "iteritems is deprecated and will be removed in a future version. Use .items instead.\n",
      "\n",
      "/Users/matuskocian/PycharmProjects/Zadanie-2/venv/lib/python3.9/site-packages/sweetviz/series_analyzer_cat.py:28: FutureWarning:\n",
      "\n",
      "iteritems is deprecated and will be removed in a future version. Use .items instead.\n",
      "\n",
      "/Users/matuskocian/PycharmProjects/Zadanie-2/venv/lib/python3.9/site-packages/sweetviz/series_analyzer_cat.py:28: FutureWarning:\n",
      "\n",
      "iteritems is deprecated and will be removed in a future version. Use .items instead.\n",
      "\n",
      "/Users/matuskocian/PycharmProjects/Zadanie-2/venv/lib/python3.9/site-packages/sweetviz/series_analyzer_cat.py:28: FutureWarning:\n",
      "\n",
      "iteritems is deprecated and will be removed in a future version. Use .items instead.\n",
      "\n",
      "/Users/matuskocian/PycharmProjects/Zadanie-2/venv/lib/python3.9/site-packages/sweetviz/series_analyzer_cat.py:28: FutureWarning:\n",
      "\n",
      "iteritems is deprecated and will be removed in a future version. Use .items instead.\n",
      "\n",
      "/Users/matuskocian/PycharmProjects/Zadanie-2/venv/lib/python3.9/site-packages/sweetviz/series_analyzer_cat.py:28: FutureWarning:\n",
      "\n",
      "iteritems is deprecated and will be removed in a future version. Use .items instead.\n",
      "\n",
      "/Users/matuskocian/PycharmProjects/Zadanie-2/venv/lib/python3.9/site-packages/sweetviz/series_analyzer_cat.py:28: FutureWarning:\n",
      "\n",
      "iteritems is deprecated and will be removed in a future version. Use .items instead.\n",
      "\n",
      "/Users/matuskocian/PycharmProjects/Zadanie-2/venv/lib/python3.9/site-packages/sweetviz/series_analyzer_cat.py:28: FutureWarning:\n",
      "\n",
      "iteritems is deprecated and will be removed in a future version. Use .items instead.\n",
      "\n",
      "/Users/matuskocian/PycharmProjects/Zadanie-2/venv/lib/python3.9/site-packages/sweetviz/series_analyzer_cat.py:28: FutureWarning:\n",
      "\n",
      "iteritems is deprecated and will be removed in a future version. Use .items instead.\n",
      "\n",
      "/Users/matuskocian/PycharmProjects/Zadanie-2/venv/lib/python3.9/site-packages/sweetviz/series_analyzer_cat.py:28: FutureWarning:\n",
      "\n",
      "iteritems is deprecated and will be removed in a future version. Use .items instead.\n",
      "\n",
      "/Users/matuskocian/PycharmProjects/Zadanie-2/venv/lib/python3.9/site-packages/sweetviz/series_analyzer_cat.py:28: FutureWarning:\n",
      "\n",
      "iteritems is deprecated and will be removed in a future version. Use .items instead.\n",
      "\n",
      "/Users/matuskocian/PycharmProjects/Zadanie-2/venv/lib/python3.9/site-packages/sweetviz/series_analyzer_cat.py:28: FutureWarning:\n",
      "\n",
      "iteritems is deprecated and will be removed in a future version. Use .items instead.\n",
      "\n",
      "/Users/matuskocian/PycharmProjects/Zadanie-2/venv/lib/python3.9/site-packages/sweetviz/series_analyzer_cat.py:28: FutureWarning:\n",
      "\n",
      "iteritems is deprecated and will be removed in a future version. Use .items instead.\n",
      "\n",
      "/Users/matuskocian/PycharmProjects/Zadanie-2/venv/lib/python3.9/site-packages/sweetviz/series_analyzer_cat.py:28: FutureWarning:\n",
      "\n",
      "iteritems is deprecated and will be removed in a future version. Use .items instead.\n",
      "\n",
      "/Users/matuskocian/PycharmProjects/Zadanie-2/venv/lib/python3.9/site-packages/sweetviz/series_analyzer_cat.py:28: FutureWarning:\n",
      "\n",
      "iteritems is deprecated and will be removed in a future version. Use .items instead.\n",
      "\n",
      "/Users/matuskocian/PycharmProjects/Zadanie-2/venv/lib/python3.9/site-packages/sweetviz/series_analyzer_cat.py:28: FutureWarning:\n",
      "\n",
      "iteritems is deprecated and will be removed in a future version. Use .items instead.\n",
      "\n",
      "/Users/matuskocian/PycharmProjects/Zadanie-2/venv/lib/python3.9/site-packages/sweetviz/series_analyzer_cat.py:28: FutureWarning:\n",
      "\n",
      "iteritems is deprecated and will be removed in a future version. Use .items instead.\n",
      "\n",
      "/Users/matuskocian/PycharmProjects/Zadanie-2/venv/lib/python3.9/site-packages/sweetviz/series_analyzer_cat.py:28: FutureWarning:\n",
      "\n",
      "iteritems is deprecated and will be removed in a future version. Use .items instead.\n",
      "\n",
      "/Users/matuskocian/PycharmProjects/Zadanie-2/venv/lib/python3.9/site-packages/sweetviz/series_analyzer_cat.py:28: FutureWarning:\n",
      "\n",
      "iteritems is deprecated and will be removed in a future version. Use .items instead.\n",
      "\n",
      "/Users/matuskocian/PycharmProjects/Zadanie-2/venv/lib/python3.9/site-packages/sweetviz/series_analyzer_cat.py:28: FutureWarning:\n",
      "\n",
      "iteritems is deprecated and will be removed in a future version. Use .items instead.\n",
      "\n",
      "/Users/matuskocian/PycharmProjects/Zadanie-2/venv/lib/python3.9/site-packages/sweetviz/series_analyzer_cat.py:28: FutureWarning:\n",
      "\n",
      "iteritems is deprecated and will be removed in a future version. Use .items instead.\n",
      "\n",
      "/Users/matuskocian/PycharmProjects/Zadanie-2/venv/lib/python3.9/site-packages/sweetviz/series_analyzer_cat.py:28: FutureWarning:\n",
      "\n",
      "iteritems is deprecated and will be removed in a future version. Use .items instead.\n",
      "\n",
      "/Users/matuskocian/PycharmProjects/Zadanie-2/venv/lib/python3.9/site-packages/sweetviz/series_analyzer_cat.py:28: FutureWarning:\n",
      "\n",
      "iteritems is deprecated and will be removed in a future version. Use .items instead.\n",
      "\n",
      "/Users/matuskocian/PycharmProjects/Zadanie-2/venv/lib/python3.9/site-packages/sweetviz/series_analyzer_cat.py:28: FutureWarning:\n",
      "\n",
      "iteritems is deprecated and will be removed in a future version. Use .items instead.\n",
      "\n",
      "/Users/matuskocian/PycharmProjects/Zadanie-2/venv/lib/python3.9/site-packages/sweetviz/series_analyzer_cat.py:28: FutureWarning:\n",
      "\n",
      "iteritems is deprecated and will be removed in a future version. Use .items instead.\n",
      "\n",
      "/Users/matuskocian/PycharmProjects/Zadanie-2/venv/lib/python3.9/site-packages/sweetviz/series_analyzer_cat.py:28: FutureWarning:\n",
      "\n",
      "iteritems is deprecated and will be removed in a future version. Use .items instead.\n",
      "\n",
      "/Users/matuskocian/PycharmProjects/Zadanie-2/venv/lib/python3.9/site-packages/sweetviz/series_analyzer_cat.py:28: FutureWarning:\n",
      "\n",
      "iteritems is deprecated and will be removed in a future version. Use .items instead.\n",
      "\n",
      "/Users/matuskocian/PycharmProjects/Zadanie-2/venv/lib/python3.9/site-packages/sweetviz/series_analyzer_cat.py:28: FutureWarning:\n",
      "\n",
      "iteritems is deprecated and will be removed in a future version. Use .items instead.\n",
      "\n",
      "/Users/matuskocian/PycharmProjects/Zadanie-2/venv/lib/python3.9/site-packages/sweetviz/series_analyzer_cat.py:28: FutureWarning:\n",
      "\n",
      "iteritems is deprecated and will be removed in a future version. Use .items instead.\n",
      "\n",
      "/Users/matuskocian/PycharmProjects/Zadanie-2/venv/lib/python3.9/site-packages/sweetviz/series_analyzer_cat.py:28: FutureWarning:\n",
      "\n",
      "iteritems is deprecated and will be removed in a future version. Use .items instead.\n",
      "\n",
      "/Users/matuskocian/PycharmProjects/Zadanie-2/venv/lib/python3.9/site-packages/sweetviz/series_analyzer_cat.py:28: FutureWarning:\n",
      "\n",
      "iteritems is deprecated and will be removed in a future version. Use .items instead.\n",
      "\n",
      "/Users/matuskocian/PycharmProjects/Zadanie-2/venv/lib/python3.9/site-packages/sweetviz/series_analyzer_cat.py:28: FutureWarning:\n",
      "\n",
      "iteritems is deprecated and will be removed in a future version. Use .items instead.\n",
      "\n",
      "/Users/matuskocian/PycharmProjects/Zadanie-2/venv/lib/python3.9/site-packages/sweetviz/series_analyzer_cat.py:28: FutureWarning:\n",
      "\n",
      "iteritems is deprecated and will be removed in a future version. Use .items instead.\n",
      "\n",
      "/Users/matuskocian/PycharmProjects/Zadanie-2/venv/lib/python3.9/site-packages/sweetviz/series_analyzer_cat.py:28: FutureWarning:\n",
      "\n",
      "iteritems is deprecated and will be removed in a future version. Use .items instead.\n",
      "\n",
      "/Users/matuskocian/PycharmProjects/Zadanie-2/venv/lib/python3.9/site-packages/sweetviz/series_analyzer_cat.py:28: FutureWarning:\n",
      "\n",
      "iteritems is deprecated and will be removed in a future version. Use .items instead.\n",
      "\n",
      "/Users/matuskocian/PycharmProjects/Zadanie-2/venv/lib/python3.9/site-packages/sweetviz/series_analyzer_cat.py:28: FutureWarning:\n",
      "\n",
      "iteritems is deprecated and will be removed in a future version. Use .items instead.\n",
      "\n",
      "/Users/matuskocian/PycharmProjects/Zadanie-2/venv/lib/python3.9/site-packages/sweetviz/series_analyzer_cat.py:28: FutureWarning:\n",
      "\n",
      "iteritems is deprecated and will be removed in a future version. Use .items instead.\n",
      "\n",
      "/Users/matuskocian/PycharmProjects/Zadanie-2/venv/lib/python3.9/site-packages/sweetviz/series_analyzer_cat.py:28: FutureWarning:\n",
      "\n",
      "iteritems is deprecated and will be removed in a future version. Use .items instead.\n",
      "\n",
      "/Users/matuskocian/PycharmProjects/Zadanie-2/venv/lib/python3.9/site-packages/sweetviz/series_analyzer_cat.py:28: FutureWarning:\n",
      "\n",
      "iteritems is deprecated and will be removed in a future version. Use .items instead.\n",
      "\n",
      "/Users/matuskocian/PycharmProjects/Zadanie-2/venv/lib/python3.9/site-packages/sweetviz/series_analyzer_cat.py:28: FutureWarning:\n",
      "\n",
      "iteritems is deprecated and will be removed in a future version. Use .items instead.\n",
      "\n"
     ]
    },
    {
     "name": "stdout",
     "output_type": "stream",
     "text": [
      "Report SWEETVIZ_REPORT.html was generated! NOTEBOOK/COLAB USERS: the web browser MAY not pop up, regardless, the report IS saved in your notebook/colab files.\n"
     ]
    }
   ],
   "source": [
    "my_report = sv.analyze(train_data, pairwise_analysis='off')\n",
    "my_report.show_html()"
   ],
   "metadata": {
    "collapsed": false
   }
  },
  {
   "cell_type": "code",
   "execution_count": 7,
   "outputs": [],
   "source": [
    "fig = px.bar(no_dummy, x='GarageCars', y='SalePrice', color='YearBuilt')\n",
    "fig.write_image('year-cars-price.png')"
   ],
   "metadata": {
    "collapsed": false
   }
  },
  {
   "cell_type": "code",
   "execution_count": 10,
   "outputs": [],
   "source": [
    "fig = px.scatter(no_dummy, x='TotRmsAbvGrd', y='GrLivArea', color='SalePrice')\n",
    "fig.write_image('rms-liv-price.png')"
   ],
   "metadata": {
    "collapsed": false
   }
  },
  {
   "cell_type": "code",
   "execution_count": 16,
   "outputs": [],
   "source": [
    "fig = px.scatter(no_dummy, x='Fireplaces', y='GrLivArea', color='SalePrice')\n",
    "fig.write_image('liv-area-fire-price.png')"
   ],
   "metadata": {
    "collapsed": false
   }
  },
  {
   "cell_type": "code",
   "execution_count": 20,
   "outputs": [],
   "source": [
    "fig = px.scatter(no_dummy, x='YrSold', y='SalePrice', color='SaleType')\n",
    "fig.write_image('sale-yearsold-saletype.png')"
   ],
   "metadata": {
    "collapsed": false
   }
  },
  {
   "cell_type": "code",
   "execution_count": 24,
   "outputs": [],
   "source": [
    "fig = px.scatter(no_dummy, x='YearBuilt', y='SalePrice', color='PoolArea')\n",
    "fig.write_image('year-price-poolarea.png')"
   ],
   "metadata": {
    "collapsed": false
   }
  },
  {
   "cell_type": "code",
   "execution_count": 30,
   "outputs": [],
   "source": [
    "fig = px.scatter(no_dummy, x='YearBuilt', y='SalePrice', color='HouseStyle')\n",
    "fig.write_image('year-price-style.png')"
   ],
   "metadata": {
    "collapsed": false
   }
  },
  {
   "cell_type": "code",
   "execution_count": null,
   "outputs": [],
   "source": [],
   "metadata": {
    "collapsed": false
   }
  },
  {
   "cell_type": "code",
   "execution_count": 34,
   "outputs": [],
   "source": [
    "fig = px.scatter(no_dummy, x='BldgType', y='SalePrice', color='RoofStyle')\n",
    "fig.write_image('roof-price-type.png')"
   ],
   "metadata": {
    "collapsed": false
   }
  },
  {
   "cell_type": "code",
   "execution_count": null,
   "outputs": [],
   "source": [
    "#Scaling\n",
    "scaler = MinMaxScaler()\n",
    "scaler.fit(train_data)\n",
    "scaled_train = scaler.transform(train_data)\n",
    "scaled_train_data = pd.DataFrame(scaled_train, columns=train_data.columns)\n",
    "scaled_test = scaler.transform(test_data)\n",
    "scaled_test_data = pd.DataFrame(scaled_test,columns=test_data.columns)"
   ],
   "metadata": {
    "collapsed": false
   }
  },
  {
   "cell_type": "code",
   "execution_count": null,
   "outputs": [],
   "source": [
    "print(scaled_train_data.shape)\n",
    "print(scaled_test_data.shape)"
   ],
   "metadata": {
    "collapsed": false
   }
  },
  {
   "cell_type": "code",
   "execution_count": null,
   "outputs": [],
   "source": [
    "plt.figure(figsize=(10,5))\n",
    "plt.scatter(x=scaled_train_data[\"LotArea\"], y=scaled_train_data['SalePrice'], )\n",
    "plt.xlabel('Lot Area')\n",
    "plt.ylabel('Price')\n",
    "plt.savefig('lot-area-price.png')"
   ],
   "metadata": {
    "collapsed": false
   }
  },
  {
   "cell_type": "code",
   "execution_count": null,
   "outputs": [],
   "source": [
    "scaled_train_data = scaled_train_data[scaled_train_data['LotArea'] < 0.25].reset_index(drop=True)\n",
    "scaled_train_data.shape"
   ],
   "metadata": {
    "collapsed": false
   }
  },
  {
   "cell_type": "code",
   "execution_count": null,
   "outputs": [],
   "source": [
    "plt.figure(figsize=(10,5))\n",
    "plt.scatter(x=scaled_train_data[\"LotArea\"], y=scaled_train_data['SalePrice'], )\n",
    "plt.xlabel('Lot Area')\n",
    "plt.ylabel('Price')\n",
    "plt.savefig('lot-are-price-del.png')"
   ],
   "metadata": {
    "collapsed": false
   }
  },
  {
   "cell_type": "code",
   "execution_count": null,
   "outputs": [],
   "source": [
    "#Vypisanie najviac korelujucich hodnot\n",
    "corr = train_data.corr().abs()\n",
    "highest_corr = corr.unstack()\n",
    "sorted_highest_corr = highest_corr.sort_values(ascending=False).drop_duplicates()\n",
    "sorted_highest_corr[:50]"
   ],
   "metadata": {
    "collapsed": false
   }
  },
  {
   "cell_type": "code",
   "execution_count": null,
   "outputs": [],
   "source": [
    "fig = px.imshow(corr)\n",
    "fig.write_html(\"corr_matrix.html\")"
   ],
   "metadata": {
    "collapsed": false
   }
  },
  {
   "cell_type": "code",
   "execution_count": null,
   "outputs": [],
   "source": [
    "scaled_train_data[\"LotArea\"].hist()"
   ],
   "metadata": {
    "collapsed": false
   }
  },
  {
   "cell_type": "code",
   "execution_count": null,
   "outputs": [],
   "source": [
    "X_train = scaled_train_data.drop('SalePrice', axis=1)\n",
    "y_train = scaled_train_data['SalePrice']\n",
    "X_columns = scaled_train_data.drop('SalePrice', axis=1).columns\n",
    "X_test = scaled_test_data.drop('SalePrice', axis=1)\n",
    "y_test = scaled_test_data['SalePrice']"
   ],
   "metadata": {
    "collapsed": false
   }
  },
  {
   "cell_type": "code",
   "execution_count": null,
   "outputs": [],
   "source": [
    "print(np.shape(X_train))\n",
    "print(np.shape(y_train))"
   ],
   "metadata": {
    "collapsed": false
   }
  },
  {
   "cell_type": "code",
   "execution_count": null,
   "outputs": [],
   "source": [
    "param_grid = {'max_features': ['sqrt', 'log2',1.0],\n",
    "              'ccp_alpha': [.01, .001],\n",
    "              'max_depth' : [5, 6, 7],\n",
    "              'criterion' :['absolute_error'],\n",
    "              'min_samples_leaf': [1,2,3]\n",
    "             }"
   ],
   "metadata": {
    "collapsed": false
   }
  },
  {
   "cell_type": "code",
   "execution_count": null,
   "outputs": [],
   "source": [
    "regressor = DecisionTreeRegressor()\n",
    "grid_search_tree = GridSearchCV(estimator=regressor,\n",
    "                           param_grid=param_grid,\n",
    "                           cv=5, verbose=4)\n",
    "grid_search_tree.fit(X_train, y_train)"
   ],
   "metadata": {
    "collapsed": false
   }
  },
  {
   "cell_type": "code",
   "execution_count": null,
   "outputs": [],
   "source": [
    "print(\"BEST ESTIMATOR: \" + str(grid_search_tree.best_estimator_))\n",
    "print(\"BEST SCORE: \" + str(grid_search_tree.best_score_))"
   ],
   "metadata": {
    "collapsed": false
   }
  },
  {
   "cell_type": "code",
   "execution_count": null,
   "outputs": [],
   "source": [
    "tree_results = pd.DataFrame(grid_search_tree.cv_results_)\n",
    "tree_results.to_csv(\"tree_results.csv\")"
   ],
   "metadata": {
    "collapsed": false
   }
  },
  {
   "cell_type": "code",
   "execution_count": null,
   "outputs": [],
   "source": [
    "plt.figure(figsize=(10,5))\n",
    "plot.grid_search(grid_search_tree.cv_results_, change=\"max_depth\", kind='bar', sort=False)\n",
    "plt.legend(bbox_to_anchor=(1.04, 1), loc=\"upper left\")\n",
    "plt.savefig('tree_grid.png',bbox_inches=\"tight\")"
   ],
   "metadata": {
    "collapsed": false
   }
  },
  {
   "cell_type": "code",
   "execution_count": null,
   "outputs": [],
   "source": [
    "best_tree_regressor = DecisionTreeRegressor(ccp_alpha=0.001, criterion='absolute_error', max_depth=5,min_samples_leaf=2)\n",
    "best_tree_regressor.fit(X_train, y_train)"
   ],
   "metadata": {
    "collapsed": false
   }
  },
  {
   "cell_type": "code",
   "execution_count": null,
   "outputs": [],
   "source": [
    "y_pred = best_tree_regressor.predict(X_test)\n",
    "plot.residuals(y_test, y_pred)\n",
    "plt.savefig('residual-tree.png')"
   ],
   "metadata": {
    "collapsed": false
   }
  },
  {
   "cell_type": "code",
   "execution_count": null,
   "outputs": [],
   "source": [
    "#tree_test_results\n",
    "print(\"R2 score: \"+ str(r2_score(y_true=y_test,y_pred=y_pred)))\n",
    "print(\"MSE score: \"+ str(mean_squared_error(y_pred=y_pred,y_true=y_test)))\n"
   ],
   "metadata": {
    "collapsed": false
   }
  },
  {
   "cell_type": "code",
   "execution_count": null,
   "outputs": [],
   "source": [
    "text_representation = tree.export_text(best_tree_regressor)\n",
    "feature_names = list(scaled_train_data.columns.values)\n",
    "\n",
    "fig = plt.figure(figsize=(15,10))\n",
    "_ = tree.plot_tree(best_tree_regressor,feature_names= feature_names,\n",
    "                   filled=True)\n",
    "fig.savefig('decisionTree.png')"
   ],
   "metadata": {
    "collapsed": false
   }
  },
  {
   "cell_type": "code",
   "execution_count": null,
   "outputs": [],
   "source": [
    "param = {'kernel' : ('linear', 'poly', 'rbf'),'C' : [1,5,10,100],'gamma' : (0.1,0.01,0.001)},\n",
    "\n",
    "svrGridSearch = GridSearchCV(estimator=SVR(),param_grid=param,\n",
    "                             cv=5,\n",
    "                             verbose=4,)\n",
    "\n",
    "svrGridSearch.fit(X_train,y_train)"
   ],
   "metadata": {
    "collapsed": false
   }
  },
  {
   "cell_type": "code",
   "execution_count": null,
   "outputs": [],
   "source": [
    "grid_scores = svrGridSearch.cv_results_\n",
    "tree_results = pd.DataFrame(grid_scores)\n",
    "#tree_results = tree_results.sort_values(\"rank_test_r2\")\n",
    "tree_results.to_csv(\"svm_results.csv\")"
   ],
   "metadata": {
    "collapsed": false
   }
  },
  {
   "cell_type": "code",
   "execution_count": null,
   "outputs": [],
   "source": [
    "print(\"BEST ESTIMATOR: \" + str(svrGridSearch.best_estimator_))\n",
    "print(\"BEST SCORE: \" + str(svrGridSearch.best_score_))\n",
    "print(\"BEST PARAMETERS\" + str(svrGridSearch.best_params_))"
   ],
   "metadata": {
    "collapsed": false
   }
  },
  {
   "cell_type": "code",
   "execution_count": null,
   "outputs": [],
   "source": [
    "svrGridSearchResults = svrGridSearch.cv_results_\n",
    "ax = plot.grid_search(svrGridSearch.cv_results_, change=\"gamma\", kind='bar', sort=False)\n",
    "plt.legend(bbox_to_anchor=(1.04, 1), loc=\"upper left\")\n",
    "plt.savefig('svr-grid.png',bbox_inches=\"tight\")"
   ],
   "metadata": {
    "collapsed": false
   }
  },
  {
   "cell_type": "code",
   "execution_count": null,
   "outputs": [],
   "source": [
    "from sklearn_evaluation import plot\n",
    "bestSvr = SVR(C=1,gamma='auto',kernel='rbf', verbose=False)\n",
    "bestSvr.fit(X_train,y_train)"
   ],
   "metadata": {
    "collapsed": false
   }
  },
  {
   "cell_type": "code",
   "execution_count": null,
   "outputs": [],
   "source": [
    "y_pred = bestSvr.predict(X_test)\n",
    "y_true = y_test\n",
    "plot.residuals(y_true, y_pred)\n",
    "plt.savefig('svr-residuals.png')"
   ],
   "metadata": {
    "collapsed": false
   }
  },
  {
   "cell_type": "code",
   "execution_count": null,
   "outputs": [],
   "source": [
    "y_pred = bestSvr.predict(X_test)\n",
    "print(\"R2 score: \"+ str(r2_score(y_true=y_test,y_pred=y_pred)))\n",
    "print(\"MSE score: \"+ str(mean_squared_error(y_pred=y_pred,y_true=y_test)))"
   ],
   "metadata": {
    "collapsed": false
   }
  },
  {
   "cell_type": "code",
   "execution_count": null,
   "outputs": [],
   "source": [
    "parameters = {\n",
    "    'n_estimators': [100, 150, 200, 250, 300],\n",
    "    'max_depth': [1,2,3,4],\n",
    "}\n",
    "randomForestRegressor = RandomForestRegressor(ccp_alpha=0.001, criterion='absolute_error',min_samples_leaf=2)\n",
    "\n",
    "grid_search = GridSearchCV(estimator=randomForestRegressor,\n",
    "                           param_grid=parameters,\n",
    "                           cv=5, verbose=4)\n",
    "grid_search.fit(X_train, y_train)"
   ],
   "metadata": {
    "collapsed": false
   }
  },
  {
   "cell_type": "code",
   "execution_count": null,
   "outputs": [],
   "source": [
    "print(\"BEST FOREST ESTIMATOR: \" + str(grid_search.best_estimator_))\n",
    "print(\"BEST SCORE: \" + str(grid_search.best_score_))\n",
    "print(\"BEST PARAMETERS\" + str(grid_search.best_params_))"
   ],
   "metadata": {
    "collapsed": false
   }
  },
  {
   "cell_type": "code",
   "execution_count": null,
   "outputs": [],
   "source": [
    "plot.grid_search(grid_search.cv_results_, change=\"n_estimators\", kind='bar', sort=False)\n",
    "plt.legend(bbox_to_anchor=(1.04, 1), loc=\"upper left\")\n",
    "plt.savefig('random-f-grid.png',bbox_inches=\"tight\")"
   ],
   "metadata": {
    "collapsed": false
   }
  },
  {
   "cell_type": "code",
   "execution_count": null,
   "outputs": [],
   "source": [
    "bestRandomForest = RandomForestRegressor(max_depth=4,n_estimators=150,ccp_alpha=0.001, criterion='absolute_error',min_samples_leaf=2)\n",
    "bestRandomForest.fit(X_train, y_train)"
   ],
   "metadata": {
    "collapsed": false
   }
  },
  {
   "cell_type": "code",
   "execution_count": null,
   "outputs": [],
   "source": [
    "y_pred = bestRandomForest.predict(X_test)\n",
    "plot.residuals(y_true=y_test, y_pred=y_pred)\n",
    "plt.savefig('plt-residual.png')"
   ],
   "metadata": {
    "collapsed": false
   }
  },
  {
   "cell_type": "code",
   "execution_count": null,
   "outputs": [],
   "source": [
    "print(\"R2 score: \"+ str(r2_score(y_true=y_test,y_pred=y_pred)))\n",
    "print(\"MSE score: \"+ str(mean_squared_error(y_pred=y_pred,y_true=y_test)))"
   ],
   "metadata": {
    "collapsed": false
   }
  },
  {
   "cell_type": "code",
   "execution_count": null,
   "outputs": [],
   "source": [
    "feat_importances = pd.Series(bestRandomForest.feature_importances_, index=X_train.columns).sort_values()\n",
    "feat_importances.nlargest(20).plot(kind='barh')"
   ],
   "metadata": {
    "collapsed": false
   }
  },
  {
   "cell_type": "code",
   "execution_count": null,
   "outputs": [],
   "source": [
    "fig = px.bar(feat_importances, orientation='h')\n",
    "fig.write_html('importances.html')"
   ],
   "metadata": {
    "collapsed": false
   }
  },
  {
   "cell_type": "code",
   "execution_count": null,
   "outputs": [],
   "source": [
    "X = X_test\n",
    "y = y_test\n",
    "y_pred = bestSvr.predict(X)\n",
    "fig = px.scatter(x=y, y=y_pred, labels={'x': 'ground truth', 'y': 'prediction'}, title=\"Prediction vs Expected SVR\")\n",
    "fig.add_shape(\n",
    "    type=\"line\", line=dict(dash='dash'),\n",
    "    x0=y.min(), y0=y.min(),\n",
    "    x1=y.max(), y1=y.max()\n",
    ")\n",
    "fig.show()"
   ],
   "metadata": {
    "collapsed": false
   }
  },
  {
   "cell_type": "code",
   "execution_count": null,
   "outputs": [],
   "source": [
    "import plotly.express as px\n",
    "\n",
    "df = scaled_test_data\n",
    "\n",
    "# Condition the model on sepal width and length, predict the petal width\n",
    "df['prediction'] = bestSvr.predict(X_test)\n",
    "df['residual'] = df['prediction'] - scaled_test_data['SalePrice']\n",
    "\n",
    "fig = px.scatter(\n",
    "    df, x='prediction', y='residual',\n",
    "    marginal_y='violin', trendline='ols', title=\"Residual SVR\"\n",
    ")\n",
    "fig.write_html('residual-trendline-svr.html')"
   ],
   "metadata": {
    "collapsed": false
   }
  },
  {
   "cell_type": "code",
   "execution_count": null,
   "outputs": [],
   "source": [
    "import plotly.express as px\n",
    "\n",
    "df = scaled_test_data\n",
    "\n",
    "df['prediction'] = bestRandomForest.predict(X_test)\n",
    "df['residual'] = df['prediction'] - scaled_test_data['SalePrice']\n",
    "\n",
    "fig = px.scatter(\n",
    "    df, x='prediction', y='residual',\n",
    "    marginal_y='violin', trendline='ols', title=\"Residual Random Forrest\"\n",
    ")\n",
    "fig.write_html('residual-trendline-forest.html')"
   ],
   "metadata": {
    "collapsed": false
   }
  },
  {
   "cell_type": "code",
   "execution_count": null,
   "outputs": [],
   "source": [
    "import plotly.express as px\n",
    "\n",
    "df = scaled_test_data\n",
    "\n",
    "df['prediction'] = best_tree_regressor.predict(X_test)\n",
    "df['residual'] = df['prediction'] - scaled_test_data['SalePrice']\n",
    "\n",
    "fig = px.scatter(\n",
    "    df, x='prediction', y='residual',\n",
    "    marginal_y='violin', trendline='ols', title=\"Residual Tree\"\n",
    ")\n",
    "fig.write_html('residual-trendline-tree.html')"
   ],
   "metadata": {
    "collapsed": false
   }
  },
  {
   "cell_type": "code",
   "execution_count": null,
   "outputs": [],
   "source": [
    "fig = px.scatter_3d(train_data, x='TotRmsAbvGrd', y='GrLivArea', z='YearBuilt',\n",
    "                    color='SalePrice', symbol='GarageCars')\n",
    "fig.update_layout(coloraxis_colorbar=dict(yanchor=\"top\", y=1, x=0,\n",
    "                                          ticks=\"outside\"))\n",
    "fig.update_layout(legend=dict(title_font_family=\"Times New Roman\",\n",
    "                              font=dict(size= 20)\n",
    "))\n",
    "fig.write_html('3d.html')"
   ],
   "metadata": {
    "collapsed": false
   }
  },
  {
   "cell_type": "code",
   "execution_count": null,
   "outputs": [],
   "source": [
    "import umap.umap_ as umap\n",
    "X = X_train\n",
    "reducer = umap.UMAP(n_components=3, min_dist=0.1, n_neighbors=50).fit(X)\n",
    "umap_train_data = reducer.transform(X)"
   ],
   "metadata": {
    "collapsed": false
   }
  },
  {
   "cell_type": "code",
   "execution_count": null,
   "outputs": [],
   "source": [
    "umap_train_data"
   ],
   "metadata": {
    "collapsed": false
   }
  },
  {
   "cell_type": "code",
   "execution_count": null,
   "outputs": [],
   "source": [
    "df_umap = pd.DataFrame(umap_train_data)\n",
    "df_umap[['SalePrice','GarageCars']] = train_data[[\"SalePrice\",\"GarageCars\"]]\n",
    "fig = px.scatter_3d(df_umap, x=0, y=1, z=2,\n",
    "                    color='SalePrice', symbol='GarageCars')\n",
    "fig.update_layout(coloraxis_colorbar=dict(yanchor=\"top\", y=1, x=0,\n",
    "                                          ticks=\"outside\"))\n",
    "fig.update_layout(legend=dict(title_font_family=\"Times New Roman\",\n",
    "                              font=dict(size= 20)\n",
    "))\n",
    "fig.write_html('3d_umap.html')"
   ],
   "metadata": {
    "collapsed": false
   }
  },
  {
   "cell_type": "code",
   "execution_count": null,
   "outputs": [],
   "source": [
    "X = X_train\n",
    "pca = PCA(n_components=3)\n",
    "components = pca.fit_transform(X)\n",
    "\n",
    "total_var = pca.explained_variance_ratio_.sum() * 100\n",
    "\n",
    "fig = px.scatter_3d(\n",
    "    components, x=0, y=1, z=2, color=scaled_train_data['SalePrice'],\n",
    "    title=f'Total Explained Variance: {total_var:.2f}%',\n",
    "    labels={'0': 'PC 1', '1': 'PC 2', '2': 'PC 3'}\n",
    ")\n",
    "fig.write_html('3d_pca.html')"
   ],
   "metadata": {
    "collapsed": false
   }
  },
  {
   "cell_type": "code",
   "execution_count": null,
   "outputs": [],
   "source": [
    "for i in range (0,255,5):\n",
    "    if i == 1:\n",
    "        continue\n",
    "    pca = PCA(n_components=i, random_state=2020)\n",
    "    components = pca.fit_transform(scaled_train_data)\n",
    "    print(\"VARIANCE EXPLAINED BY ALL \" + str(i) + \" PRINCIPAL COMPONENTS = \" + str(sum(pca.explained_variance_ratio_ *100)))"
   ],
   "metadata": {
    "collapsed": false
   }
  },
  {
   "cell_type": "code",
   "execution_count": null,
   "outputs": [],
   "source": [
    "most_corr_columns = sorted_highest_corr[:2000].reset_index()\n",
    "most_corr =[]\n",
    "reducted_train_data = X_train.copy()\n",
    "reducted_test_data = X_test.copy()\n",
    "for row in most_corr_columns['level_0']:\n",
    "    if row in reducted_train_data.columns:\n",
    "        reducted_train_data = reducted_train_data.drop(row, axis=1)\n",
    "        reducted_test_data = reducted_test_data.drop(row, axis=1)\n",
    "        most_corr.append(row)\n",
    "\n",
    "updated_most_corr = reducted_train_data.corr().abs().unstack().sort_values(ascending=False).drop_duplicates()\n",
    "least_corr_train = X_train.drop(columns = most_corr)\n",
    "most_corr_train = X_train.drop(columns = least_corr_train.columns)\n",
    "\n",
    "least_corr_test = X_test.drop(columns = most_corr)\n",
    "most_corr_test = X_test.drop(columns = least_corr_test.columns)\n",
    "\n",
    "print(\"POCET NAJVIAC KORELUJUCICH STLPCOV PRI 1000 HODNOTACH \", len(most_corr_train.columns))\n",
    "print(\"POCET NAJMENEJ KORELUJUCICH STLPCOV PRI 1000 HODNOTACH \", len(least_corr_train.columns))\n",
    "print(least_corr_train.shape)\n",
    "print(most_corr_train.shape)\n",
    "print(least_corr_test.shape)\n",
    "print(most_corr_test.shape)"
   ],
   "metadata": {
    "collapsed": false
   }
  },
  {
   "cell_type": "code",
   "execution_count": null,
   "outputs": [],
   "source": [
    "#4\n",
    "pca4 = PCA(n_components=4, random_state=2020)\n",
    "pca4.fit(most_corr_train)\n",
    "train_components4 = pca4.transform(most_corr_train)\n",
    "test_components4 = pca4.transform(most_corr_test)\n",
    "print(\"VARIANCE EXPLAINED BY ALL \" + str(4) + \" PRINCIPAL COMPONENTS = \" + str(sum(pca4.explained_variance_ratio_ *100)))"
   ],
   "metadata": {
    "collapsed": false
   }
  },
  {
   "cell_type": "code",
   "execution_count": null,
   "outputs": [],
   "source": [
    "#5\n",
    "pca5 = PCA(n_components=5, random_state=2020)\n",
    "pca5.fit(most_corr_train)\n",
    "train_components5 = pca5.transform(most_corr_train)\n",
    "test_components5 = pca5.transform(most_corr_test)\n",
    "print(\"VARIANCE EXPLAINED BY ALL \" + str(5) + \" PRINCIPAL COMPONENTS = \" + str(sum(pca5.explained_variance_ratio_ *100)))"
   ],
   "metadata": {
    "collapsed": false
   }
  },
  {
   "cell_type": "code",
   "execution_count": null,
   "outputs": [],
   "source": [
    "#6\n",
    "pca6 = PCA(n_components=6, random_state=2020)\n",
    "pca6.fit(most_corr_train)\n",
    "train_components6 = pca6.transform(most_corr_train)\n",
    "test_components6 = pca6.transform(most_corr_test)\n",
    "print(\"VARIANCE EXPLAINED BY ALL \" + str(6) + \" PRINCIPAL COMPONENTS = \" + str(sum(pca6.explained_variance_ratio_ *100)))"
   ],
   "metadata": {
    "collapsed": false
   }
  },
  {
   "cell_type": "code",
   "execution_count": null,
   "outputs": [],
   "source": [
    "#7\n",
    "pca7 = PCA(n_components=7, random_state=2020)\n",
    "pca7.fit(most_corr_train)\n",
    "train_components7 = pca7.transform(most_corr_train)\n",
    "test_components7 = pca7.transform(most_corr_test)\n",
    "print(\"VARIANCE EXPLAINED BY ALL \" + str(7) + \" PRINCIPAL COMPONENTS = \" + str(sum(pca7.explained_variance_ratio_ *100)))"
   ],
   "metadata": {
    "collapsed": false
   }
  },
  {
   "cell_type": "code",
   "execution_count": null,
   "outputs": [],
   "source": [
    "#10\n",
    "pca10 = PCA(n_components=10, random_state=2020)\n",
    "pca10.fit(most_corr_train)\n",
    "train_components10 = pca10.transform(most_corr_train)\n",
    "test_components10 = pca10.transform(most_corr_test)\n",
    "print(\"VARIANCE EXPLAINED BY ALL \" + str(10) + \" PRINCIPAL COMPONENTS = \" + str(sum(pca10.explained_variance_ratio_ *100)))"
   ],
   "metadata": {
    "collapsed": false
   }
  },
  {
   "cell_type": "code",
   "execution_count": null,
   "outputs": [],
   "source": [
    "pca15 = PCA(n_components=15, random_state=2020)\n",
    "pca15.fit(most_corr_train)\n",
    "train_components15 = pca15.transform(most_corr_train)\n",
    "test_components15 = pca15.transform(most_corr_test)\n",
    "print(\"VARIANCE EXPLAINED BY ALL \" + str(15) + \" PRINCIPAL COMPONENTS = \" + str(sum(pca15.explained_variance_ratio_ *100)))"
   ],
   "metadata": {
    "collapsed": false
   }
  },
  {
   "cell_type": "code",
   "execution_count": null,
   "outputs": [],
   "source": [
    "train_reductions = [train_components4,train_components5,train_components6,train_components7,train_components10,train_components15]"
   ],
   "metadata": {
    "collapsed": false
   }
  },
  {
   "cell_type": "code",
   "execution_count": null,
   "outputs": [],
   "source": [
    "test_reductions = [test_components4,test_components5,test_components6,test_components7,test_components10,test_components15]"
   ],
   "metadata": {
    "collapsed": false
   }
  },
  {
   "cell_type": "code",
   "execution_count": null,
   "outputs": [],
   "source": [
    "def Average(lst):\n",
    "    return sum(lst) / len(lst)\n",
    "\n",
    "def train_with_reduction(train_p, test_p, model):\n",
    "    reducted_train_data_pca = least_corr_train.copy()\n",
    "    train_pca_reduction = pd.DataFrame(train_p)\n",
    "    ready_train = pd.concat([reducted_train_data_pca,train_pca_reduction], axis=1, join='inner')\n",
    "    ready_train.columns = ready_train.columns.map(str)\n",
    "\n",
    "    reducted_test_data_pca = least_corr_test.copy()\n",
    "    test_pca_reduction = pd.DataFrame(test_p)\n",
    "    ready_test = pd.concat([reducted_test_data_pca,test_pca_reduction], axis=1, join='inner')\n",
    "    ready_test.columns = ready_train.columns.map(str)\n",
    "\n",
    "    train_result_best_random_forest_pca = cross_validate(model,ready_train,y_train,scoring=[\"r2\"], return_estimator=True, return_train_score=True)\n",
    "    r2test = []\n",
    "    for i in range(4):\n",
    "        y_predicted = train_result_best_random_forest_pca['estimator'][i].predict(ready_test)\n",
    "        test_result = r2_score(y_test,y_predicted)\n",
    "        r2test.append(test_result)\n",
    "    print(\"Pocet priznakov: \" + str(len(ready_train.columns)) + \" Pocet dimenzii redukovanej podmnoziny: \" + str(len(train_pca_reduction.columns)))\n",
    "    print('\\n')\n",
    "    return [len(train_pca_reduction.columns),train_result_best_random_forest_pca, Average(r2test)]"
   ],
   "metadata": {
    "collapsed": false
   }
  },
  {
   "cell_type": "code",
   "execution_count": null,
   "outputs": [],
   "source": [
    "fit_times = []\n",
    "dimensions = []\n",
    "r2score = []\n",
    "test_r2 =[]\n",
    "for (train, test) in zip(train_reductions, test_reductions):\n",
    "     result = train_with_reduction(train,test, bestRandomForest)\n",
    "     fit_times.append(result[1]['fit_time'].mean())\n",
    "     dimensions.append(result[0])\n",
    "     r2score.append(result[1]['train_r2'].mean())\n",
    "     test_r2.append(result[2])\n",
    "print(fit_times)\n",
    "print(dimensions)\n",
    "print(r2score)\n",
    "print(test_r2)"
   ],
   "metadata": {
    "collapsed": false
   }
  },
  {
   "cell_type": "code",
   "execution_count": null,
   "outputs": [],
   "source": [
    "df = pd.DataFrame(list(zip(dimensions, fit_times, r2score,test_r2)),\n",
    "               columns =['dimension', 'fit_time','r2score','test_r2'])\n",
    "fig = make_subplots(specs=[[{\"secondary_y\": True}]])\n",
    "\n",
    "# Add traces\n",
    "fig.add_trace(\n",
    "    go.Bar(x=dimensions, y=fit_times, name=\"Mean Fit time\",marker=dict(color='rgb(34,163,192)'))\n",
    "    ,secondary_y=False\n",
    ")\n",
    "\n",
    "fig.add_trace(\n",
    "    go.Scatter(x=dimensions, y=r2score, name=\"Mean Train R2 score\"),\n",
    "    secondary_y=True,\n",
    ")\n",
    "fig.add_trace(\n",
    "    go.Scatter(x=dimensions, y=test_r2, name=\"Mean test R2 score\"),\n",
    "    secondary_y=True\n",
    ")\n",
    "\n",
    "# Add figure title\n",
    "fig.update_layout(\n",
    "    title_text=\"R2 Score with Fit times based on reductions\"\n",
    ")\n",
    "\n",
    "# Set x-axis title\n",
    "fig.update_xaxes(title_text=\"Dimensions\")\n",
    "\n",
    "# Set y-axes titles\n",
    "fig.update_yaxes(title_text=\"Fit time\", secondary_y=False)\n",
    "fig.update_yaxes(title_text=\"R2 score\", secondary_y=True)\n",
    "\n",
    "fig.write_html('reducted_dimension.html')\n",
    "fig.write_image('reducted_dimension.png')"
   ],
   "metadata": {
    "collapsed": false
   }
  }
 ],
 "metadata": {
  "kernelspec": {
   "display_name": "Python 3",
   "language": "python",
   "name": "python3"
  },
  "language_info": {
   "codemirror_mode": {
    "name": "ipython",
    "version": 2
   },
   "file_extension": ".py",
   "mimetype": "text/x-python",
   "name": "python",
   "nbconvert_exporter": "python",
   "pygments_lexer": "ipython2",
   "version": "2.7.6"
  }
 },
 "nbformat": 4,
 "nbformat_minor": 0
}
