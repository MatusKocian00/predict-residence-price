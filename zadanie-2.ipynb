{
 "cells": [
  {
   "cell_type": "code",
   "execution_count": 13,
   "metadata": {
    "collapsed": true
   },
   "outputs": [],
   "source": [
    "import numpy as np\n",
    "import pandas as pd\n",
    "import plotly.express as px\n",
    "from sklearn.preprocessing import MinMaxScaler"
   ]
  },
  {
   "cell_type": "code",
   "execution_count": 2,
   "outputs": [],
   "source": [
    "train_data_path = \"train_dummy.csv\"\n",
    "test_data_path = \"test_dummy.csv\""
   ],
   "metadata": {
    "collapsed": false
   }
  },
  {
   "cell_type": "code",
   "execution_count": 3,
   "outputs": [],
   "source": [
    "train_data = pd.read_csv(train_data_path, low_memory=False)\n",
    "test_data = pd.read_csv(test_data_path, low_memory=False)"
   ],
   "metadata": {
    "collapsed": false
   }
  },
  {
   "cell_type": "code",
   "execution_count": 16,
   "outputs": [
    {
     "data": {
      "text/plain": "       MSSubClass  LotFrontage     LotArea  OverallCond   YearBuilt  \\\ncount  940.000000   940.000000  940.000000   940.000000  940.000000   \nmean     0.206633     0.170227    0.041867     0.511398    0.708879   \nstd      0.244641     0.083735    0.040856     0.152996    0.239446   \nmin      0.000000     0.000000    0.000000     0.000000    0.000000   \n25%      0.000000     0.133562    0.029821     0.428571    0.561538   \n50%      0.176471     0.167808    0.037743     0.428571    0.723077   \n75%      0.235294     0.202055    0.047239     0.571429    0.946154   \nmax      1.000000     1.000000    1.000000     1.000000    1.000000   \n\n       YearRemodAdd  MasVnrArea  BsmtFinSF1  BsmtFinSF2   BsmtUnfSF  ...  \\\ncount    940.000000  940.000000  940.000000  940.000000  940.000000  ...   \nmean       0.593989    0.069450    0.079995    0.033261    0.257684  ...   \nstd        0.348910    0.121417    0.083779    0.112467    0.189063  ...   \nmin        0.000000    0.000000    0.000000    0.000000    0.000000  ...   \n25%        0.266667    0.000000    0.000000    0.000000    0.117937  ...   \n50%        0.750000    0.000000    0.068037    0.000000    0.219392  ...   \n75%        0.900000    0.110313    0.126860    0.000000    0.356699  ...   \nmax        1.000000    1.000000    1.000000    1.000000    1.000000  ...   \n\n       SaleType_ConLw  SaleType_New  SaleType_Oth  SaleType_WD  \\\ncount      940.000000     940.00000    940.000000   940.000000   \nmean         0.004255       0.10000      0.001064     0.858511   \nstd          0.065129       0.30016      0.032616     0.348711   \nmin          0.000000       0.00000      0.000000     0.000000   \n25%          0.000000       0.00000      0.000000     1.000000   \n50%          0.000000       0.00000      0.000000     1.000000   \n75%          0.000000       0.00000      0.000000     1.000000   \nmax          1.000000       1.00000      1.000000     1.000000   \n\n       SaleCondition_Abnorml  SaleCondition_AdjLand  SaleCondition_Alloca  \\\ncount             940.000000             940.000000            940.000000   \nmean                0.059574               0.001064              0.005319   \nstd                 0.236823               0.032616              0.072777   \nmin                 0.000000               0.000000              0.000000   \n25%                 0.000000               0.000000              0.000000   \n50%                 0.000000               0.000000              0.000000   \n75%                 0.000000               0.000000              0.000000   \nmax                 1.000000               1.000000              1.000000   \n\n       SaleCondition_Family  SaleCondition_Normal  SaleCondition_Partial  \ncount            940.000000            940.000000             940.000000  \nmean               0.017021              0.814894               0.102128  \nstd                0.129419              0.388591               0.302977  \nmin                0.000000              0.000000               0.000000  \n25%                0.000000              1.000000               0.000000  \n50%                0.000000              1.000000               0.000000  \n75%                0.000000              1.000000               0.000000  \nmax                1.000000              1.000000               1.000000  \n\n[8 rows x 256 columns]",
      "text/html": "<div>\n<style scoped>\n    .dataframe tbody tr th:only-of-type {\n        vertical-align: middle;\n    }\n\n    .dataframe tbody tr th {\n        vertical-align: top;\n    }\n\n    .dataframe thead th {\n        text-align: right;\n    }\n</style>\n<table border=\"1\" class=\"dataframe\">\n  <thead>\n    <tr style=\"text-align: right;\">\n      <th></th>\n      <th>MSSubClass</th>\n      <th>LotFrontage</th>\n      <th>LotArea</th>\n      <th>OverallCond</th>\n      <th>YearBuilt</th>\n      <th>YearRemodAdd</th>\n      <th>MasVnrArea</th>\n      <th>BsmtFinSF1</th>\n      <th>BsmtFinSF2</th>\n      <th>BsmtUnfSF</th>\n      <th>...</th>\n      <th>SaleType_ConLw</th>\n      <th>SaleType_New</th>\n      <th>SaleType_Oth</th>\n      <th>SaleType_WD</th>\n      <th>SaleCondition_Abnorml</th>\n      <th>SaleCondition_AdjLand</th>\n      <th>SaleCondition_Alloca</th>\n      <th>SaleCondition_Family</th>\n      <th>SaleCondition_Normal</th>\n      <th>SaleCondition_Partial</th>\n    </tr>\n  </thead>\n  <tbody>\n    <tr>\n      <th>count</th>\n      <td>940.000000</td>\n      <td>940.000000</td>\n      <td>940.000000</td>\n      <td>940.000000</td>\n      <td>940.000000</td>\n      <td>940.000000</td>\n      <td>940.000000</td>\n      <td>940.000000</td>\n      <td>940.000000</td>\n      <td>940.000000</td>\n      <td>...</td>\n      <td>940.000000</td>\n      <td>940.00000</td>\n      <td>940.000000</td>\n      <td>940.000000</td>\n      <td>940.000000</td>\n      <td>940.000000</td>\n      <td>940.000000</td>\n      <td>940.000000</td>\n      <td>940.000000</td>\n      <td>940.000000</td>\n    </tr>\n    <tr>\n      <th>mean</th>\n      <td>0.206633</td>\n      <td>0.170227</td>\n      <td>0.041867</td>\n      <td>0.511398</td>\n      <td>0.708879</td>\n      <td>0.593989</td>\n      <td>0.069450</td>\n      <td>0.079995</td>\n      <td>0.033261</td>\n      <td>0.257684</td>\n      <td>...</td>\n      <td>0.004255</td>\n      <td>0.10000</td>\n      <td>0.001064</td>\n      <td>0.858511</td>\n      <td>0.059574</td>\n      <td>0.001064</td>\n      <td>0.005319</td>\n      <td>0.017021</td>\n      <td>0.814894</td>\n      <td>0.102128</td>\n    </tr>\n    <tr>\n      <th>std</th>\n      <td>0.244641</td>\n      <td>0.083735</td>\n      <td>0.040856</td>\n      <td>0.152996</td>\n      <td>0.239446</td>\n      <td>0.348910</td>\n      <td>0.121417</td>\n      <td>0.083779</td>\n      <td>0.112467</td>\n      <td>0.189063</td>\n      <td>...</td>\n      <td>0.065129</td>\n      <td>0.30016</td>\n      <td>0.032616</td>\n      <td>0.348711</td>\n      <td>0.236823</td>\n      <td>0.032616</td>\n      <td>0.072777</td>\n      <td>0.129419</td>\n      <td>0.388591</td>\n      <td>0.302977</td>\n    </tr>\n    <tr>\n      <th>min</th>\n      <td>0.000000</td>\n      <td>0.000000</td>\n      <td>0.000000</td>\n      <td>0.000000</td>\n      <td>0.000000</td>\n      <td>0.000000</td>\n      <td>0.000000</td>\n      <td>0.000000</td>\n      <td>0.000000</td>\n      <td>0.000000</td>\n      <td>...</td>\n      <td>0.000000</td>\n      <td>0.00000</td>\n      <td>0.000000</td>\n      <td>0.000000</td>\n      <td>0.000000</td>\n      <td>0.000000</td>\n      <td>0.000000</td>\n      <td>0.000000</td>\n      <td>0.000000</td>\n      <td>0.000000</td>\n    </tr>\n    <tr>\n      <th>25%</th>\n      <td>0.000000</td>\n      <td>0.133562</td>\n      <td>0.029821</td>\n      <td>0.428571</td>\n      <td>0.561538</td>\n      <td>0.266667</td>\n      <td>0.000000</td>\n      <td>0.000000</td>\n      <td>0.000000</td>\n      <td>0.117937</td>\n      <td>...</td>\n      <td>0.000000</td>\n      <td>0.00000</td>\n      <td>0.000000</td>\n      <td>1.000000</td>\n      <td>0.000000</td>\n      <td>0.000000</td>\n      <td>0.000000</td>\n      <td>0.000000</td>\n      <td>1.000000</td>\n      <td>0.000000</td>\n    </tr>\n    <tr>\n      <th>50%</th>\n      <td>0.176471</td>\n      <td>0.167808</td>\n      <td>0.037743</td>\n      <td>0.428571</td>\n      <td>0.723077</td>\n      <td>0.750000</td>\n      <td>0.000000</td>\n      <td>0.068037</td>\n      <td>0.000000</td>\n      <td>0.219392</td>\n      <td>...</td>\n      <td>0.000000</td>\n      <td>0.00000</td>\n      <td>0.000000</td>\n      <td>1.000000</td>\n      <td>0.000000</td>\n      <td>0.000000</td>\n      <td>0.000000</td>\n      <td>0.000000</td>\n      <td>1.000000</td>\n      <td>0.000000</td>\n    </tr>\n    <tr>\n      <th>75%</th>\n      <td>0.235294</td>\n      <td>0.202055</td>\n      <td>0.047239</td>\n      <td>0.571429</td>\n      <td>0.946154</td>\n      <td>0.900000</td>\n      <td>0.110313</td>\n      <td>0.126860</td>\n      <td>0.000000</td>\n      <td>0.356699</td>\n      <td>...</td>\n      <td>0.000000</td>\n      <td>0.00000</td>\n      <td>0.000000</td>\n      <td>1.000000</td>\n      <td>0.000000</td>\n      <td>0.000000</td>\n      <td>0.000000</td>\n      <td>0.000000</td>\n      <td>1.000000</td>\n      <td>0.000000</td>\n    </tr>\n    <tr>\n      <th>max</th>\n      <td>1.000000</td>\n      <td>1.000000</td>\n      <td>1.000000</td>\n      <td>1.000000</td>\n      <td>1.000000</td>\n      <td>1.000000</td>\n      <td>1.000000</td>\n      <td>1.000000</td>\n      <td>1.000000</td>\n      <td>1.000000</td>\n      <td>...</td>\n      <td>1.000000</td>\n      <td>1.00000</td>\n      <td>1.000000</td>\n      <td>1.000000</td>\n      <td>1.000000</td>\n      <td>1.000000</td>\n      <td>1.000000</td>\n      <td>1.000000</td>\n      <td>1.000000</td>\n      <td>1.000000</td>\n    </tr>\n  </tbody>\n</table>\n<p>8 rows × 256 columns</p>\n</div>"
     },
     "execution_count": 16,
     "metadata": {},
     "output_type": "execute_result"
    }
   ],
   "source": [
    "#Scaling\n",
    "scaler = MinMaxScaler()\n",
    "scaler.fit(train_data)\n",
    "scaled_train = scaler.transform(train_data)\n",
    "scaled_train_data = pd.DataFrame(scaled_train, columns=train_data.columns)\n",
    "scaled_test = scaler.transform(test_data)\n",
    "scaled_test_data = pd.DataFrame(scaled_test,columns=test_data.columns)"
   ],
   "metadata": {
    "collapsed": false
   }
  },
  {
   "cell_type": "code",
   "execution_count": 11,
   "outputs": [
    {
     "data": {
      "text/plain": "CentralAir_Y         CentralAir_N             1.000000e+00\nMSSubClass           MSSubClass               1.000000e+00\nStreet_Grvl          Street_Pave              1.000000e+00\nSaleType_New         SaleCondition_Partial    9.883582e-01\nExterior2nd_VinylSd  Exterior1st_VinylSd      9.799339e-01\n                                                  ...     \nMasVnrType_None      Exterior1st_Plywood      3.887687e-05\nHeatingQC_TA         LandSlope_Mod            2.621237e-05\nBsmtFinType1_Rec     Exterior1st_HdBoard      2.183901e-05\nExterior2nd_AsbShng  GrLivArea                1.380617e-05\nSaleType_New         GarageQual_Gd            2.729716e-17\nLength: 27049, dtype: float64"
     },
     "execution_count": 11,
     "metadata": {},
     "output_type": "execute_result"
    }
   ],
   "source": [
    "#Vypisanie najviac korelujucich hodnot\n",
    "corr = train_data.corr().abs()\n",
    "highest_corr = corr.unstack()\n",
    "sorted_highest_corr = highest_corr.sort_values(ascending=False).drop_duplicates()\n",
    "sorted_highest_corr"
   ],
   "metadata": {
    "collapsed": false
   }
  },
  {
   "cell_type": "code",
   "execution_count": null,
   "outputs": [],
   "source": [
    "fig = px.imshow(corr)\n",
    "#fig.show()\n",
    "fig.write_html(\"corr_matrix.html\")"
   ],
   "metadata": {
    "collapsed": false,
    "pycharm": {
     "is_executing": true
    }
   }
  },
  {
   "cell_type": "code",
   "execution_count": 7,
   "outputs": [],
   "source": [],
   "metadata": {
    "collapsed": false
   }
  }
 ],
 "metadata": {
  "kernelspec": {
   "display_name": "Python 3",
   "language": "python",
   "name": "python3"
  },
  "language_info": {
   "codemirror_mode": {
    "name": "ipython",
    "version": 2
   },
   "file_extension": ".py",
   "mimetype": "text/x-python",
   "name": "python",
   "nbconvert_exporter": "python",
   "pygments_lexer": "ipython2",
   "version": "2.7.6"
  }
 },
 "nbformat": 4,
 "nbformat_minor": 0
}
